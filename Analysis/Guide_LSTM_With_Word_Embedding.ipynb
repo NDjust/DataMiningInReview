{
 "cells": [
  {
   "cell_type": "markdown",
   "metadata": {},
   "source": [
    "## 리뷰 데이터 LSTM(+Word Embedding)을 활용해 모델링 \n",
    "----\n",
    "\n",
    "- [캐글 커널 Reference](https://www.kaggle.com/alexcherniuk/imdb-review-word2vec-bilstm-99-acc)"
   ]
  },
  {
   "cell_type": "code",
   "execution_count": 21,
   "metadata": {
    "pycharm": {
     "is_executing": true
    }
   },
   "outputs": [],
   "source": [
    "import warnings\n",
    "warnings.filterwarnings('ignore')\n",
    "\n",
    "# Modules for data manipulation\n",
    "import numpy as np\n",
    "import pandas as pd\n",
    "import re\n",
    "\n",
    "# Modules for visualization\n",
    "import matplotlib.pyplot as plt\n",
    "import seaborn as sb\n",
    "\n",
    "# Tools for preprocessing input data\n",
    "from nltk import word_tokenize\n",
    "from nltk.corpus import stopwords\n",
    "from nltk.stem import WordNetLemmatizer\n",
    "\n",
    "# Tools for creating ngrams and vectorizing input data\n",
    "from gensim.models import Word2Vec, Phrases\n",
    "\n",
    "# Tools for building a model\n",
    "from sklearn.model_selection import train_test_split\n",
    "from keras.models import Sequential\n",
    "from keras.layers import Dense, LSTM, Dropout, Bidirectional\n",
    "from keras.layers.embeddings import Embedding\n",
    "from keras.preprocessing.sequence import pad_sequences\n",
    "\n",
    "# Tools for assessing the quality of model prediction\n",
    "from sklearn.metrics import accuracy_score, confusion_matrix"
   ]
  },
  {
   "cell_type": "markdown",
   "metadata": {},
   "source": [
    "### Set some matplotlib configs for visualization\n",
    "\n",
    "----\n",
    "\n",
    "- 시각화의 크기 default 값 설정"
   ]
  },
  {
   "cell_type": "code",
   "execution_count": 22,
   "metadata": {
    "pycharm": {
     "is_executing": true
    }
   },
   "outputs": [],
   "source": [
    "SMALL_SIZE = 12\n",
    "MEDIUM_SIZE = 14\n",
    "BIG_SIZE = 16\n",
    "LARGE_SIZE = 20\n",
    "\n",
    "params = {\n",
    "    'figure.figsize': (16, 8),\n",
    "    'font.size': SMALL_SIZE,\n",
    "    'xtick.labelsize': MEDIUM_SIZE,\n",
    "    'ytick.labelsize': MEDIUM_SIZE,\n",
    "    'legend.fontsize': BIG_SIZE,\n",
    "    'figure.titlesize': LARGE_SIZE,\n",
    "    'axes.titlesize': MEDIUM_SIZE,\n",
    "    'axes.labelsize': BIG_SIZE\n",
    "}\n",
    "plt.rcParams.update(params)"
   ]
  },
  {
   "cell_type": "code",
   "execution_count": 23,
   "metadata": {
    "pycharm": {
     "is_executing": true
    },
    "scrolled": true
   },
   "outputs": [
    {
     "name": "stdout",
     "output_type": "stream",
     "text": [
      "<bound method DataFrame.info of                                                   review  score\n",
      "0      마퍼디였을 때도 맛있었는데 껠끄쇼즈 최근 2번 방문했어요! 역시 실망시키지 않는 곳...      1\n",
      "1      쫀맛탱..! 비싸지만 진짜진짜 그 값 하는 디저트였어요.\\n레몬타르트였나 패션후르츠...      1\n",
      "2      9월 12일까지 현재 주소와 이름으로 운영하고, 이후 18일부터 새로운 이름 껠끄쇼...      1\n",
      "3                                            대치동 최애 디저트집      1\n",
      "4      시그니쳐인 바닐라 타르트를 먹어봤다 당도도\\n적당했고 크기는 작은편이지만 정말 맛있...      0\n",
      "5      클라시크와 몽블랑!\\n사실 다녀온지는 좀 됐지만 이제서야 남기는리뷰ㅠ ㅡㅠ\\n\\n몽...      1\n",
      "6                                    까눌레가 맛있고 마카롱은 그냥그래요      0\n",
      "7      레몬유자패션타르트를 먹었는데 아주 새콤달콤하니 맛있었요. 마카롱도 먹었는데 사진은 ...      1\n",
      "8      르 데흐니에, 유자 패션푸르트 타르트, 파리 브레스트, 잔뒤야 프랄리네 소금 마카롱...      1\n",
      "9      12시30분 오픈인데 28분인가 도착했더니 이미 앞엔 여섯팀? 정도 대기 중.. 그...      1\n",
      "10     스테디셀러인 말차헤이즐넛과 바닐라는 맨날 늦어서 못 먹은지 어언 이년이 다되어가는데...      1\n",
      "11     맜있어요! 하지만 꼬끄쫀득파로써 기대가 너무 컸던 탓인지 엄청 맛있다까지는 잘 모르...      1\n",
      "12     일단 들어가자마자 받은 느낌은 굉장히 아기자기하다?? ㅎㅎㅎ 입구도 크지않고 내부도...      1\n",
      "13                                                ♡합니당..      1\n",
      "14     대체로 대 존맛 입니다.\\n표현력이 떨어져서 이렇게밖에 표현을 못하는 저를 용서하소...      1\n",
      "15     마카롱 4가지 맛과 마들렌 먹어봤어요. 더블바닐라와 헤이즐넛 마카롱을 개인적인 취향...      1\n",
      "16     높은 평점에 꼭 와보고 싶었던 곳. 앉을 자리가 넓을 줄 알았는데 두평 남짓되는.....      1\n",
      "17     학생 시절, 이런 학원가에 이런 갬성갬성한 디저트 가게가 왜 안 망하나, 도대체 누...      1\n",
      "18     나도 드뎌 마이퍼니디저트\\n\\n0. 원래 가까운 곳에 더욱 소홀한 법이라구.. 명성...      1\n",
      "19     익히 명성은 들었지만 평일엔 시간이 안 되는 직장인인지라... (주륵) 주말 12시...      1\n",
      "20     대치동 <마이 퍼니 디저트>\\n\\n한마디로 여긴 최고의 마카롱집.\\n\\n그토록,,,...      1\n",
      "21     대치동 맛집. 더 알려지지 않았으면 좋겠다. 이미 더블바닐라는 개점시간 맞춰가지 않...      1\n",
      "22     몇번 외국인들에게 선물했는데 마카롱 먹고 깜짝 놀라더군요. 자기는 마카롱 안 좋아하...      1\n",
      "23     요즘 가장 최애하는 디저트 가게다. 가게가 굉장히 아담하고(2-3명 들어갈 정도) ...      1\n",
      "24     2019년 3월 10일 17시경 방문\\n\\n평점 4.6인 거 보니 이집 정말 잘하긴...      1\n",
      "25     My Lovely Dessert\\n클라시크가 마지막이라길래 달려갔습니다.\\n클라시크...      1\n",
      "26     벌써 여러차례 방문한 마퍼디. 디저트 하나는 정말 기똥차게 잘하는 곳이다 특히 마카...      1\n",
      "27     대치동 학원가에 이런데가 있을리가 없는데\\n반신반의하며 방문했다\\n가게 내부는 생각...      1\n",
      "28     크림당쥬: 상큼한 라드베리맛과 상큼한 요거트치즈맛\\n장미: 장미향이 입안가득 향긋하...      1\n",
      "29     벌써 3번째 방문이고, 한국에서 가장 제 맘에 드는 마카롱을 파는 곳이랍니다~♡ 물...      1\n",
      "...                                                  ...    ...\n",
      "92786  망원의 비건빵집으로 유명한곳!! 여기는 쑥치아바타가 최고다ㅠㅠ 진짜 별기대 안했는데...      1\n",
      "92787                     가볼만했던 것 같아요~ 여기는 여름이 아님 ㅎㅎㅎㅎ\\n      1\n",
      "92788  삼치 먹었는데 완전크고 맛있어요~!!! 이 가격이면 만족! 사장님이 친절하시고 삼치...      1\n",
      "92789              서비스로 와인주시는거 흑돼지랑 생각보다 궁합이 잘맞더라구요 ㅋㅋ\\n      1\n",
      "92790  시골야채된장비빔밥 너무 맛있어요~ 들기름도 살짝 뿌려져있고 정말 푸짐하니 속이 든든...      1\n",
      "92791          대체적으로 양이 많은 편은 아니지만 메뉴마다 맛있어서 괜찮았어요 캬캬캬\\n      1\n",
      "92792      가격은 좀 비싸지만 신선한 해산물 요리가 일품이라 ㅎㅎㅎ 한번쯤 가볼만한 곳~\\n      1\n",
      "92793                           복요리 비싸다는 편견을 버리게 만드는 집\\n      1\n",
      "92794  다양한 종류의 보쌈을 비롯해 족발, 골뱅이, 홍어 등 다채로운 요리도 있구요. 순두...      1\n",
      "92795  Served with an espresso sauce, the slight bitt...      1\n",
      "92796                                           Good!!\\n      1\n",
      "92797      미리 예약주문하고 가서 기다리지 않고 바로 먹고 왔어요^^ 건강해진 느낌이에요\\n      0\n",
      "92798                                 보영이네 해물 칼국수 호로록~\\n      1\n",
      "92799                           탕수육이 진짜 쫄깃쫄깃하고 맛있내요 ㅎㅎ\\n      1\n",
      "92800               초등학교때부터 부모님이랑 자주가던 두부집 ㅋㅋ 싸고 건강한 맛\\n      1\n",
      "92801                 보리빵 넘 중독성있어요 먹으면 먹을수록 담백하면서 고소해요\\n      0\n",
      "92802                매장은 작아보이는데 빵은 꽤 많았어요 케익은 말안해도 부띠끄\\n      1\n",
      "92803                                명태조림 매콤하고 아주 괜찮은편\\n      1\n",
      "92804  해산물이 한상가득 지지난 주말 휴일이라고 부모님 모시고동생이랑 조카랑 드라이브를 다...      1\n",
      "92805  테이블마다 링겔이 하나씩 있어서 무슨 병원온느낌ㅋㅋㅋㅋㅋㅋㅋ 어떻게 이런 컨셉을 생...      1\n",
      "92806  채식 레스토랑 카페 같은 곳으로 유명한 곳이라고 합니다. 가게도 밝고 테라스 석도 ...      1\n",
      "92807                                 스테이크 두툼하고 맛있습니다.\\n      1\n",
      "92808  정말 맛있어요 녹두전은 겉은 바삭 속은 촉촉하네요 막국수면은 부드럽고 양념은 깔끔합...      1\n",
      "92809                 좋았어요. 근데 뭐 딱히 특색은 없는..? 그런 곳인듯..\\n      1\n",
      "92810  패티가 두껍고 맥주 먹기 좋은 분위기에서 맥주와 곁들여 먹기에 좋은 버맥 하기 좋은...      1\n",
      "92811  명동에 겹살이 맛집이 없어서 방황하던 어느날... 우리의 레이더망에 딱 걸린 명동 ...      1\n",
      "92812  여기는 웨이팅만 아니면 다 괜찮은집 뷰가 너무 좋아서 주말엔 자리잡기조타 힘듬 그만...      1\n",
      "92813  운전기사 사이에서 입소문난 맛집!! 이미 방송에서 인증된듯이 기사맛집은 언제먹든 옳...      1\n",
      "92814               저번에 친구랑 가봤었는데 !! 사람완전많고 맛이 최강 !!!!\\n      1\n",
      "92815  세트메뉴에 포함된 피자라 크기가 작을줄알고 이인 세트메뉴 시켰는뎅 어어? 생각보다 ...      0\n",
      "\n",
      "[92816 rows x 2 columns]>\n"
     ]
    },
    {
     "data": {
      "text/html": [
       "<div>\n",
       "<style scoped>\n",
       "    .dataframe tbody tr th:only-of-type {\n",
       "        vertical-align: middle;\n",
       "    }\n",
       "\n",
       "    .dataframe tbody tr th {\n",
       "        vertical-align: top;\n",
       "    }\n",
       "\n",
       "    .dataframe thead th {\n",
       "        text-align: right;\n",
       "    }\n",
       "</style>\n",
       "<table border=\"1\" class=\"dataframe\">\n",
       "  <thead>\n",
       "    <tr style=\"text-align: right;\">\n",
       "      <th></th>\n",
       "      <th>review</th>\n",
       "      <th>score</th>\n",
       "    </tr>\n",
       "  </thead>\n",
       "  <tbody>\n",
       "    <tr>\n",
       "      <th>0</th>\n",
       "      <td>마퍼디였을 때도 맛있었는데 껠끄쇼즈 최근 2번 방문했어요! 역시 실망시키지 않는 곳...</td>\n",
       "      <td>1</td>\n",
       "    </tr>\n",
       "    <tr>\n",
       "      <th>1</th>\n",
       "      <td>쫀맛탱..! 비싸지만 진짜진짜 그 값 하는 디저트였어요.\\n레몬타르트였나 패션후르츠...</td>\n",
       "      <td>1</td>\n",
       "    </tr>\n",
       "    <tr>\n",
       "      <th>2</th>\n",
       "      <td>9월 12일까지 현재 주소와 이름으로 운영하고, 이후 18일부터 새로운 이름 껠끄쇼...</td>\n",
       "      <td>1</td>\n",
       "    </tr>\n",
       "    <tr>\n",
       "      <th>3</th>\n",
       "      <td>대치동 최애 디저트집</td>\n",
       "      <td>1</td>\n",
       "    </tr>\n",
       "    <tr>\n",
       "      <th>4</th>\n",
       "      <td>시그니쳐인 바닐라 타르트를 먹어봤다 당도도\\n적당했고 크기는 작은편이지만 정말 맛있...</td>\n",
       "      <td>0</td>\n",
       "    </tr>\n",
       "  </tbody>\n",
       "</table>\n",
       "</div>"
      ],
      "text/plain": [
       "                                              review  score\n",
       "0  마퍼디였을 때도 맛있었는데 껠끄쇼즈 최근 2번 방문했어요! 역시 실망시키지 않는 곳...      1\n",
       "1  쫀맛탱..! 비싸지만 진짜진짜 그 값 하는 디저트였어요.\\n레몬타르트였나 패션후르츠...      1\n",
       "2  9월 12일까지 현재 주소와 이름으로 운영하고, 이후 18일부터 새로운 이름 껠끄쇼...      1\n",
       "3                                        대치동 최애 디저트집      1\n",
       "4  시그니쳐인 바닐라 타르트를 먹어봤다 당도도\\n적당했고 크기는 작은편이지만 정말 맛있...      0"
      ]
     },
     "execution_count": 23,
     "metadata": {},
     "output_type": "execute_result"
    }
   ],
   "source": [
    "train_data = pd.read_csv('./data/total_data_11_27.csv', encoding='utf-8-sig')\n",
    "\n",
    "\n",
    "print(train_data.info)\n",
    "train_data.head()"
   ]
  },
  {
   "cell_type": "markdown",
   "metadata": {},
   "source": [
    "#### WordEmbedding model은 data imbalanced 처리할 필요 x\n",
    "----"
   ]
  },
  {
   "cell_type": "markdown",
   "metadata": {},
   "source": [
    "### Transfer numpy data type\n",
    "---\n",
    "\n",
    "\n",
    "- pandas을 그대로 사용할 경우 속도가 매우 느려지기 때문에, numpy자료형로 변환해 사용\n",
    "+ Pure python list 자료형보다 numpy array가 더욱 빠름"
   ]
  },
  {
   "cell_type": "code",
   "execution_count": 24,
   "metadata": {
    "pycharm": {
     "is_executing": true
    },
    "scrolled": true
   },
   "outputs": [
    {
     "name": "stdout",
     "output_type": "stream",
     "text": [
      "Total number of reviews: 92816\n"
     ]
    }
   ],
   "source": [
    "all_reviews = np.array([], dtype=str)\n",
    "all_reviews = np.concatenate((all_reviews, train_data.review), axis=0)\n",
    "print('Total number of reviews:', len(all_reviews))"
   ]
  },
  {
   "cell_type": "code",
   "execution_count": 25,
   "metadata": {},
   "outputs": [
    {
     "data": {
      "text/html": [
       "<div>\n",
       "<style scoped>\n",
       "    .dataframe tbody tr th:only-of-type {\n",
       "        vertical-align: middle;\n",
       "    }\n",
       "\n",
       "    .dataframe tbody tr th {\n",
       "        vertical-align: top;\n",
       "    }\n",
       "\n",
       "    .dataframe thead th {\n",
       "        text-align: right;\n",
       "    }\n",
       "</style>\n",
       "<table border=\"1\" class=\"dataframe\">\n",
       "  <thead>\n",
       "    <tr style=\"text-align: right;\">\n",
       "      <th></th>\n",
       "      <th>review</th>\n",
       "    </tr>\n",
       "  </thead>\n",
       "  <tbody>\n",
       "    <tr>\n",
       "      <th>0</th>\n",
       "      <td>마퍼디였을 때도 맛있었는데 껠끄쇼즈 최근 2번 방문했어요! 역시 실망시키지 않는 곳...</td>\n",
       "    </tr>\n",
       "    <tr>\n",
       "      <th>1</th>\n",
       "      <td>쫀맛탱..! 비싸지만 진짜진짜 그 값 하는 디저트였어요.\\n레몬타르트였나 패션후르츠...</td>\n",
       "    </tr>\n",
       "    <tr>\n",
       "      <th>2</th>\n",
       "      <td>9월 12일까지 현재 주소와 이름으로 운영하고, 이후 18일부터 새로운 이름 껠끄쇼...</td>\n",
       "    </tr>\n",
       "    <tr>\n",
       "      <th>3</th>\n",
       "      <td>대치동 최애 디저트집</td>\n",
       "    </tr>\n",
       "    <tr>\n",
       "      <th>4</th>\n",
       "      <td>시그니쳐인 바닐라 타르트를 먹어봤다 당도도\\n적당했고 크기는 작은편이지만 정말 맛있...</td>\n",
       "    </tr>\n",
       "  </tbody>\n",
       "</table>\n",
       "</div>"
      ],
      "text/plain": [
       "                                              review\n",
       "0  마퍼디였을 때도 맛있었는데 껠끄쇼즈 최근 2번 방문했어요! 역시 실망시키지 않는 곳...\n",
       "1  쫀맛탱..! 비싸지만 진짜진짜 그 값 하는 디저트였어요.\\n레몬타르트였나 패션후르츠...\n",
       "2  9월 12일까지 현재 주소와 이름으로 운영하고, 이후 18일부터 새로운 이름 껠끄쇼...\n",
       "3                                        대치동 최애 디저트집\n",
       "4  시그니쳐인 바닐라 타르트를 먹어봤다 당도도\\n적당했고 크기는 작은편이지만 정말 맛있..."
      ]
     },
     "execution_count": 25,
     "metadata": {},
     "output_type": "execute_result"
    }
   ],
   "source": [
    "all_reviews = train_data.drop(['score'], axis=1)\n",
    "\n",
    "all_reviews.head()"
   ]
  },
  {
   "cell_type": "code",
   "execution_count": 26,
   "metadata": {
    "pycharm": {
     "is_executing": true
    }
   },
   "outputs": [],
   "source": [
    "from Word2VecUtility import Word2VecUtility\n",
    "\n",
    "all_reviews = np.array(Word2VecUtility.apply_by_multiprocessing(all_reviews['review'], Word2VecUtility.review_to_wordlist, workers=4))"
   ]
  },
  {
   "cell_type": "code",
   "execution_count": 27,
   "metadata": {
    "pycharm": {
     "is_executing": true
    }
   },
   "outputs": [],
   "source": [
    "train_x = all_reviews\n",
    "train_y = train_data.score.values"
   ]
  },
  {
   "cell_type": "code",
   "execution_count": 28,
   "metadata": {},
   "outputs": [],
   "source": [
    "train_y = train_data.score.values"
   ]
  },
  {
   "cell_type": "code",
   "execution_count": 29,
   "metadata": {
    "scrolled": true
   },
   "outputs": [
    {
     "name": "stdout",
     "output_type": "stream",
     "text": [
      "<class 'numpy.ndarray'>\n",
      "<class 'numpy.ndarray'>\n"
     ]
    }
   ],
   "source": [
    "print(type(train_x))\n",
    "print(type(train_y))"
   ]
  },
  {
   "cell_type": "markdown",
   "metadata": {},
   "source": [
    "### See review length distribution\n",
    "----\n",
    "\n",
    "\n",
    "- input length를 결정하기 위해 각 리뷰들의 단어 길이에 대한 분포를 살펴봄."
   ]
  },
  {
   "cell_type": "code",
   "execution_count": 31,
   "metadata": {
    "pycharm": {
     "is_executing": true
    }
   },
   "outputs": [],
   "source": [
    "train_data['review_length'] = np.array(list(map(len, train_x)))\n",
    "\n",
    "\n",
    "median = train_data['review_length'].median()\n",
    "mean = train_data['review_length'].mean()\n",
    "mode = train_data['review_length'].mode()[0]"
   ]
  },
  {
   "cell_type": "code",
   "execution_count": 32,
   "metadata": {
    "pycharm": {
     "is_executing": true
    }
   },
   "outputs": [
    {
     "data": {
      "text/plain": [
       "1861"
      ]
     },
     "execution_count": 32,
     "metadata": {},
     "output_type": "execute_result"
    }
   ],
   "source": [
    "max(train_data['review_length'])"
   ]
  },
  {
   "cell_type": "code",
   "execution_count": 33,
   "metadata": {
    "pycharm": {
     "is_executing": true
    },
    "scrolled": false
   },
   "outputs": [
    {
     "data": {
      "image/png": "[encoded data removed]",
      "text/plain": [
       "<Figure size 1152x576 with 1 Axes>"
      ]
     },
     "metadata": {
      "needs_background": "light"
     },
     "output_type": "display_data"
    }
   ],
   "source": [
    "fig, ax = plt.subplots()\n",
    "sb.distplot(train_data['review_length'], bins=train_data['review_length'].max(),\n",
    "            hist_kws={\"alpha\": 0.9, \"color\": \"blue\"}, ax=ax,\n",
    "            kde_kws={\"color\": \"black\", 'linewidth': 3})\n",
    "ax.set_xlim(left=0, right=np.percentile(train_data['review_length'], 95))\n",
    "ax.set_xlabel('Words in review')\n",
    "ymax = 0.014\n",
    "plt.ylim(0, ymax)\n",
    "ax.plot([mode, mode], [0, ymax], '--', label='mode = {}'.format(mode), linewidth=4)\n",
    "ax.plot([mean, mean], [0, ymax], '--', label='mean = {}'.format(mean), linewidth=4)\n",
    "ax.plot([median, median], [0, ymax], '--',\n",
    "        label='median = {}'.format(median), linewidth=4)\n",
    "ax.set_title('Words per review distribution', fontsize=20)\n",
    "plt.legend()\n",
    "plt.show()"
   ]
  },
  {
   "cell_type": "markdown",
   "metadata": {},
   "source": [
    "#### Box plot 만들어서 이상치에 대한 분포 확인하기."
   ]
  },
  {
   "cell_type": "markdown",
   "metadata": {},
   "source": [
    "## N-gram 모델\n",
    "---\n",
    "\n",
    "- [참고 사이트](https://wikidocs.net/21692)"
   ]
  },
  {
   "cell_type": "code",
   "execution_count": 34,
   "metadata": {
    "pycharm": {
     "is_executing": true
    }
   },
   "outputs": [
    {
     "name": "stdout",
     "output_type": "stream",
     "text": [
      "CPU times: user 5.79 s, sys: 48 ms, total: 5.84 s\n",
      "Wall time: 5.84 s\n"
     ]
    }
   ],
   "source": [
    "%%time\n",
    "bigrams = Phrases(sentences=all_reviews)"
   ]
  },
  {
   "cell_type": "code",
   "execution_count": 35,
   "metadata": {
    "pycharm": {
     "is_executing": true
    }
   },
   "outputs": [
    {
     "name": "stdout",
     "output_type": "stream",
     "text": [
      "CPU times: user 20 s, sys: 51.9 ms, total: 20.1 s\n",
      "Wall time: 20.1 s\n"
     ]
    }
   ],
   "source": [
    "%%time\n",
    "trigrams = Phrases(sentences=bigrams[all_reviews])"
   ]
  },
  {
   "cell_type": "code",
   "execution_count": 36,
   "metadata": {
    "pycharm": {
     "is_executing": true
    }
   },
   "outputs": [
    {
     "name": "stdout",
     "output_type": "stream",
     "text": [
      "['space', 'station', 'near', 'the', 'solar', 'system']\n"
     ]
    }
   ],
   "source": [
    "print(bigrams['space station near the solar system'.split()])"
   ]
  },
  {
   "cell_type": "code",
   "execution_count": 37,
   "metadata": {
    "pycharm": {
     "is_executing": true
    }
   },
   "outputs": [
    {
     "name": "stdout",
     "output_type": "stream",
     "text": [
      "CPU times: user 3min 29s, sys: 142 ms, total: 3min 29s\n",
      "Wall time: 2min 58s\n"
     ]
    }
   ],
   "source": [
    "%%time\n",
    "embedding_vector_size = 500\n",
    "trigrams_model = Word2Vec(\n",
    "    sentences = trigrams[bigrams[all_reviews]],\n",
    "    size = embedding_vector_size,\n",
    "    min_count=40, window=5, workers=4)"
   ]
  },
  {
   "cell_type": "code",
   "execution_count": 38,
   "metadata": {
    "pycharm": {
     "is_executing": true
    }
   },
   "outputs": [
    {
     "name": "stdout",
     "output_type": "stream",
     "text": [
      "Vocabulary size: 6968\n"
     ]
    }
   ],
   "source": [
    "print(\"Vocabulary size:\", len(trigrams_model.wv.vocab))"
   ]
  },
  {
   "cell_type": "code",
   "execution_count": 39,
   "metadata": {
    "pycharm": {
     "is_executing": true
    }
   },
   "outputs": [
    {
     "data": {
      "text/plain": [
       "[('타코', 0.7716417908668518),\n",
       " ('햄버거', 0.7589826583862305),\n",
       " ('아보카도_버거', 0.6708163619041443),\n",
       " ('치킨_버거', 0.6700154542922974),\n",
       " ('돈까스', 0.6674783229827881),\n",
       " ('군_만두', 0.6623967885971069),\n",
       " ('프라이', 0.6606208086013794),\n",
       " ('피자', 0.6603155136108398),\n",
       " ('파니니', 0.6582499146461487),\n",
       " ('크림_마효', 0.6500504016876221)]"
      ]
     },
     "execution_count": 39,
     "metadata": {},
     "output_type": "execute_result"
    }
   ],
   "source": [
    "trigrams_model.wv.most_similar(\"버거\")"
   ]
  },
  {
   "cell_type": "code",
   "execution_count": 40,
   "metadata": {
    "pycharm": {
     "is_executing": true
    },
    "scrolled": true
   },
   "outputs": [
    {
     "data": {
      "text/plain": [
       "'콜라'"
      ]
     },
     "execution_count": 40,
     "metadata": {},
     "output_type": "execute_result"
    }
   ],
   "source": [
    "trigrams_model.wv.doesnt_match(['콜라', '버거', '감자', '치즈'])"
   ]
  },
  {
   "cell_type": "code",
   "execution_count": 41,
   "metadata": {},
   "outputs": [],
   "source": [
    "trigrams_model.save('./trigrams.model')"
   ]
  },
  {
   "cell_type": "markdown",
   "metadata": {},
   "source": [
    "#### Check Input length to decide pad sequences size \n",
    "---\n",
    "\n",
    "- 위에 word 분포 길이에 근거 해서 pad_sequences size 결정하기"
   ]
  },
  {
   "cell_type": "code",
   "execution_count": 42,
   "metadata": {
    "pycharm": {
     "is_executing": true
    },
    "scrolled": false
   },
   "outputs": [
    {
     "name": "stdout",
     "output_type": "stream",
     "text": [
      "Convert sentences to sentences with ngrams... (done)\n",
      "Vectorize sentences... (done)\n",
      "Transform sentences to sequences... (done)\n",
      "CPU times: user 3min 14s, sys: 171 ms, total: 3min 14s\n",
      "Wall time: 3min 14s\n"
     ]
    }
   ],
   "source": [
    "%%time\n",
    "def vectorize_data(data, vocab: dict) -> list:\n",
    "    print('Vectorize sentences...', end='\\r')\n",
    "    keys = list(vocab.keys())\n",
    "    filter_unknown = lambda word: vocab.get(word, None) is not None\n",
    "    encode = lambda review: list(map(keys.index, filter(filter_unknown, review)))\n",
    "    vectorized = list(map(encode, data))\n",
    "    print('Vectorize sentences... (done)')\n",
    "    return vectorized\n",
    "\n",
    "print('Convert sentences to sentences with ngrams...', end='\\r')\n",
    "X_data = trigrams[bigrams[train_x]]\n",
    "print('Convert sentences to sentences with ngrams... (done)')\n",
    "input_length = 200 # 리뷰 데이터 단어들 분포에 맞게 적절한 값 설정.\n",
    "X_pad = pad_sequences(\n",
    "    sequences=vectorize_data(X_data, vocab=trigrams_model.wv.vocab),\n",
    "    maxlen=input_length,\n",
    "    padding='post')\n",
    "print('Transform sentences to sequences... (done)')"
   ]
  },
  {
   "cell_type": "code",
   "execution_count": 43,
   "metadata": {},
   "outputs": [
    {
     "data": {
      "text/plain": [
       "array([5074, 1476, 4052,  404, 2790, 6179, 2220, 1304, 6603,  424, 4161,\n",
       "       6692,   92, 6896, 1762, 2853, 4868,  909, 6658, 4052, 6606,  404,\n",
       "          0,    0,    0,    0,    0,    0,    0,    0,    0,    0,    0,\n",
       "          0,    0,    0,    0,    0,    0,    0,    0,    0,    0,    0,\n",
       "          0,    0,    0,    0,    0,    0,    0,    0,    0,    0,    0,\n",
       "          0,    0,    0,    0,    0,    0,    0,    0,    0,    0,    0,\n",
       "          0,    0,    0,    0,    0,    0,    0,    0,    0,    0,    0,\n",
       "          0,    0,    0,    0,    0,    0,    0,    0,    0,    0,    0,\n",
       "          0,    0,    0,    0,    0,    0,    0,    0,    0,    0,    0,\n",
       "          0,    0,    0,    0,    0,    0,    0,    0,    0,    0,    0,\n",
       "          0,    0,    0,    0,    0,    0,    0,    0,    0,    0,    0,\n",
       "          0,    0,    0,    0,    0,    0,    0,    0,    0,    0,    0,\n",
       "          0,    0,    0,    0,    0,    0,    0,    0,    0,    0,    0,\n",
       "          0,    0,    0,    0,    0,    0,    0,    0,    0,    0,    0,\n",
       "          0,    0,    0,    0,    0,    0,    0,    0,    0,    0,    0,\n",
       "          0,    0,    0,    0,    0,    0,    0,    0,    0,    0,    0,\n",
       "          0,    0,    0,    0,    0,    0,    0,    0,    0,    0,    0,\n",
       "          0,    0,    0,    0,    0,    0,    0,    0,    0,    0,    0,\n",
       "          0,    0], dtype=int32)"
      ]
     },
     "execution_count": 43,
     "metadata": {},
     "output_type": "execute_result"
    }
   ],
   "source": [
    "X_pad[0]"
   ]
  },
  {
   "cell_type": "code",
   "execution_count": 47,
   "metadata": {},
   "outputs": [],
   "source": [
    "from imblearn.under_sampling import RandomUnderSampler\n",
    "import pandas as pd\n",
    "import numpy as np\n",
    "\n",
    "\n",
    "\n",
    "def down_sampling(df, target_label):\n",
    "    \"\"\" Random Under Sampling.\n",
    "\n",
    "    Solve data imbalanced.\n",
    "    :param df: data frame\n",
    "    :return: down sampling data frame.\n",
    "    \"\"\"\n",
    "    rus = RandomUnderSampler(return_indices=True)\n",
    "    print(\"Data label imbalanced percentage 1 : {} 0 : {}\",\n",
    "          len(df[df[target_label] == 1]) / len(df), len(df[df[target_label] == 0]) / len(df))\n",
    "\n",
    "    X_tl, y_tl, id_tl = rus.fit_sample(df, df[target_label])\n",
    "\n",
    "    # remake data frame.\n",
    "    columns = df.columns\n",
    "    df = pd.DataFrame(X_tl, columns=columns)\n",
    "    # df = df.astype(float)\n",
    "\n",
    "    return df"
   ]
  },
  {
   "cell_type": "code",
   "execution_count": 48,
   "metadata": {},
   "outputs": [],
   "source": [
    "train_x = pd.DataFrame(X_pad)\n",
    "train_x['score'] = train_y"
   ]
  },
  {
   "cell_type": "code",
   "execution_count": 49,
   "metadata": {},
   "outputs": [
    {
     "data": {
      "text/html": [
       "<div>\n",
       "<style scoped>\n",
       "    .dataframe tbody tr th:only-of-type {\n",
       "        vertical-align: middle;\n",
       "    }\n",
       "\n",
       "    .dataframe tbody tr th {\n",
       "        vertical-align: top;\n",
       "    }\n",
       "\n",
       "    .dataframe thead th {\n",
       "        text-align: right;\n",
       "    }\n",
       "</style>\n",
       "<table border=\"1\" class=\"dataframe\">\n",
       "  <thead>\n",
       "    <tr style=\"text-align: right;\">\n",
       "      <th></th>\n",
       "      <th>0</th>\n",
       "      <th>1</th>\n",
       "      <th>2</th>\n",
       "      <th>3</th>\n",
       "      <th>4</th>\n",
       "      <th>5</th>\n",
       "      <th>6</th>\n",
       "      <th>7</th>\n",
       "      <th>8</th>\n",
       "      <th>9</th>\n",
       "      <th>...</th>\n",
       "      <th>191</th>\n",
       "      <th>192</th>\n",
       "      <th>193</th>\n",
       "      <th>194</th>\n",
       "      <th>195</th>\n",
       "      <th>196</th>\n",
       "      <th>197</th>\n",
       "      <th>198</th>\n",
       "      <th>199</th>\n",
       "      <th>score</th>\n",
       "    </tr>\n",
       "  </thead>\n",
       "  <tbody>\n",
       "    <tr>\n",
       "      <th>0</th>\n",
       "      <td>5074</td>\n",
       "      <td>1476</td>\n",
       "      <td>4052</td>\n",
       "      <td>404</td>\n",
       "      <td>2790</td>\n",
       "      <td>6179</td>\n",
       "      <td>2220</td>\n",
       "      <td>1304</td>\n",
       "      <td>6603</td>\n",
       "      <td>424</td>\n",
       "      <td>...</td>\n",
       "      <td>0</td>\n",
       "      <td>0</td>\n",
       "      <td>0</td>\n",
       "      <td>0</td>\n",
       "      <td>0</td>\n",
       "      <td>0</td>\n",
       "      <td>0</td>\n",
       "      <td>0</td>\n",
       "      <td>0</td>\n",
       "      <td>1</td>\n",
       "    </tr>\n",
       "    <tr>\n",
       "      <th>1</th>\n",
       "      <td>469</td>\n",
       "      <td>2785</td>\n",
       "      <td>1835</td>\n",
       "      <td>6442</td>\n",
       "      <td>1304</td>\n",
       "      <td>6658</td>\n",
       "      <td>6570</td>\n",
       "      <td>3812</td>\n",
       "      <td>6570</td>\n",
       "      <td>2770</td>\n",
       "      <td>...</td>\n",
       "      <td>0</td>\n",
       "      <td>0</td>\n",
       "      <td>0</td>\n",
       "      <td>0</td>\n",
       "      <td>0</td>\n",
       "      <td>0</td>\n",
       "      <td>0</td>\n",
       "      <td>0</td>\n",
       "      <td>0</td>\n",
       "      <td>1</td>\n",
       "    </tr>\n",
       "    <tr>\n",
       "      <th>2</th>\n",
       "      <td>912</td>\n",
       "      <td>3755</td>\n",
       "      <td>3724</td>\n",
       "      <td>4729</td>\n",
       "      <td>6687</td>\n",
       "      <td>5402</td>\n",
       "      <td>6106</td>\n",
       "      <td>3960</td>\n",
       "      <td>6710</td>\n",
       "      <td>4753</td>\n",
       "      <td>...</td>\n",
       "      <td>0</td>\n",
       "      <td>0</td>\n",
       "      <td>0</td>\n",
       "      <td>0</td>\n",
       "      <td>0</td>\n",
       "      <td>0</td>\n",
       "      <td>0</td>\n",
       "      <td>0</td>\n",
       "      <td>0</td>\n",
       "      <td>1</td>\n",
       "    </tr>\n",
       "    <tr>\n",
       "      <th>3</th>\n",
       "      <td>512</td>\n",
       "      <td>1219</td>\n",
       "      <td>6658</td>\n",
       "      <td>1165</td>\n",
       "      <td>0</td>\n",
       "      <td>0</td>\n",
       "      <td>0</td>\n",
       "      <td>0</td>\n",
       "      <td>0</td>\n",
       "      <td>0</td>\n",
       "      <td>...</td>\n",
       "      <td>0</td>\n",
       "      <td>0</td>\n",
       "      <td>0</td>\n",
       "      <td>0</td>\n",
       "      <td>0</td>\n",
       "      <td>0</td>\n",
       "      <td>0</td>\n",
       "      <td>0</td>\n",
       "      <td>0</td>\n",
       "      <td>1</td>\n",
       "    </tr>\n",
       "    <tr>\n",
       "      <th>4</th>\n",
       "      <td>3611</td>\n",
       "      <td>406</td>\n",
       "      <td>3219</td>\n",
       "      <td>886</td>\n",
       "      <td>5318</td>\n",
       "      <td>5795</td>\n",
       "      <td>1476</td>\n",
       "      <td>3432</td>\n",
       "      <td>599</td>\n",
       "      <td>4828</td>\n",
       "      <td>...</td>\n",
       "      <td>5912</td>\n",
       "      <td>858</td>\n",
       "      <td>5011</td>\n",
       "      <td>3724</td>\n",
       "      <td>6211</td>\n",
       "      <td>3611</td>\n",
       "      <td>4725</td>\n",
       "      <td>6159</td>\n",
       "      <td>3577</td>\n",
       "      <td>0</td>\n",
       "    </tr>\n",
       "  </tbody>\n",
       "</table>\n",
       "<p>5 rows × 201 columns</p>\n",
       "</div>"
      ],
      "text/plain": [
       "      0     1     2     3     4     5     6     7     8     9  ...   191  192  \\\n",
       "0  5074  1476  4052   404  2790  6179  2220  1304  6603   424  ...     0    0   \n",
       "1   469  2785  1835  6442  1304  6658  6570  3812  6570  2770  ...     0    0   \n",
       "2   912  3755  3724  4729  6687  5402  6106  3960  6710  4753  ...     0    0   \n",
       "3   512  1219  6658  1165     0     0     0     0     0     0  ...     0    0   \n",
       "4  3611   406  3219   886  5318  5795  1476  3432   599  4828  ...  5912  858   \n",
       "\n",
       "    193   194   195   196   197   198   199  score  \n",
       "0     0     0     0     0     0     0     0      1  \n",
       "1     0     0     0     0     0     0     0      1  \n",
       "2     0     0     0     0     0     0     0      1  \n",
       "3     0     0     0     0     0     0     0      1  \n",
       "4  5011  3724  6211  3611  4725  6159  3577      0  \n",
       "\n",
       "[5 rows x 201 columns]"
      ]
     },
     "execution_count": 49,
     "metadata": {},
     "output_type": "execute_result"
    }
   ],
   "source": [
    "train_x.head()"
   ]
  },
  {
   "cell_type": "code",
   "execution_count": 50,
   "metadata": {},
   "outputs": [
    {
     "data": {
      "text/plain": [
       "92816"
      ]
     },
     "execution_count": 50,
     "metadata": {},
     "output_type": "execute_result"
    }
   ],
   "source": [
    "len(train_x)"
   ]
  },
  {
   "cell_type": "code",
   "execution_count": 51,
   "metadata": {
    "scrolled": true
   },
   "outputs": [
    {
     "name": "stdout",
     "output_type": "stream",
     "text": [
      "Data label imbalanced percentage 1 : {} 0 : {} 0.8899112222030684 0.11008877779693156\n"
     ]
    }
   ],
   "source": [
    "samplig_train_x = down_sampling(train_x, 'score')"
   ]
  },
  {
   "cell_type": "code",
   "execution_count": 52,
   "metadata": {
    "scrolled": false
   },
   "outputs": [],
   "source": [
    "samplig_train_x.head()\n",
    "\n",
    "train_x = samplig_train_x.drop(['score'], axis=1)\n",
    "train_y = samplig_train_x['score']"
   ]
  },
  {
   "cell_type": "code",
   "execution_count": 53,
   "metadata": {},
   "outputs": [
    {
     "name": "stdout",
     "output_type": "stream",
     "text": [
      "(20436, 200)\n",
      "(20436,)\n"
     ]
    }
   ],
   "source": [
    "print(train_x.shape)\n",
    "print(train_y.shape)"
   ]
  },
  {
   "cell_type": "markdown",
   "metadata": {},
   "source": [
    "### split train, validation, test set\n",
    "----"
   ]
  },
  {
   "cell_type": "code",
   "execution_count": 54,
   "metadata": {
    "scrolled": true
   },
   "outputs": [],
   "source": [
    "from sklearn.model_selection import train_test_split\n",
    "\n",
    "train_x, validaion_x, train_y, validaion_y = train_test_split(train_x, train_y, test_size=0.1, random_state=42)\n",
    "train_x, test_x, train_y, test_y = train_test_split(train_x, train_y, test_size=0.1, random_state=42)"
   ]
  },
  {
   "cell_type": "code",
   "execution_count": 55,
   "metadata": {
    "scrolled": true
   },
   "outputs": [
    {
     "name": "stdout",
     "output_type": "stream",
     "text": [
      "(16552, 200)\n",
      "(16552,)\n"
     ]
    }
   ],
   "source": [
    "print(train_x.shape)\n",
    "print(train_y.shape)"
   ]
  },
  {
   "cell_type": "markdown",
   "metadata": {},
   "source": [
    "## Save DataSet\n",
    "---"
   ]
  },
  {
   "cell_type": "code",
   "execution_count": 56,
   "metadata": {},
   "outputs": [],
   "source": [
    "DEFAULT_PATH = './'\n",
    "DATA_IN_PATH = 'data_in/'\n",
    "\n",
    "TRAIN_INPUT_DATA = 'nsmc_train_input.npy'\n",
    "TRAIN_LABEL_DATA = 'nsmc_train_label.npy'\n",
    "\n",
    "VALIDATION_INPUT_DATA = 'nsmc_validation_input.npy'\n",
    "VALIDATION_LABEL_DATA = 'nsmc_validation_label.npy'\n",
    "\n",
    "TEST_INPUT_DATA = 'nsmc_test_input.npy'\n",
    "TEST_LABEL_DATA = 'nsmc_test_label.npy'\n",
    "\n",
    "\n",
    "import os\n",
    "\n",
    "if not os.path.exists(DEFAULT_PATH + DATA_IN_PATH):\n",
    "    os.makedirs(DEFAULT_PATH + DATA_IN_PATH)\n",
    "    \n",
    "np.save(open(DEFAULT_PATH + DATA_IN_PATH + TRAIN_INPUT_DATA, 'wb'), train_x)\n",
    "np.save(open(DEFAULT_PATH + DATA_IN_PATH + TRAIN_LABEL_DATA, 'wb'), train_y)\n",
    "\n",
    "np.save(open(DEFAULT_PATH + DATA_IN_PATH + TEST_INPUT_DATA, 'wb'), test_x)\n",
    "np.save(open(DEFAULT_PATH + DATA_IN_PATH + TEST_LABEL_DATA, 'wb'), test_y)\n",
    "\n",
    "np.save(open(DEFAULT_PATH + DATA_IN_PATH + VALIDATION_INPUT_DATA, 'wb'), validaion_x)\n",
    "np.save(open(DEFAULT_PATH + DATA_IN_PATH + VALIDATION_LABEL_DATA, 'wb'), validaion_y)\n"
   ]
  },
  {
   "cell_type": "code",
   "execution_count": 57,
   "metadata": {},
   "outputs": [],
   "source": [
    "import numpy as np\n",
    "\n",
    "DEFAULT_PATH = './'\n",
    "DATA_IN_PATH = 'data_in/'\n",
    "\n",
    "TRAIN_INPUT_DATA = 'nsmc_train_input.npy'\n",
    "TRAIN_LABEL_DATA = 'nsmc_train_label.npy'\n",
    "\n",
    "VALIDATION_INPUT_DATA = 'nsmc_validation_input.npy'\n",
    "VALIDATION_LABEL_DATA = 'nsmc_validation_label.npy'\n",
    "\n",
    "TEST_INPUT_DATA = 'nsmc_test_input.npy'\n",
    "TEST_LABEL_DATA = 'nsmc_test_label.npy'\n",
    "\n",
    "\n",
    "import os\n",
    "\n",
    "if not os.path.exists(DEFAULT_PATH + DATA_IN_PATH):\n",
    "    os.makedirs(DEFAULT_PATH + DATA_IN_PATH)\n",
    "    \n",
    "TRAIN_X = np.load(open(DEFAULT_PATH + DATA_IN_PATH + TRAIN_INPUT_DATA, 'rb'))\n",
    "TRAIN_Y = np.load(open(DEFAULT_PATH + DATA_IN_PATH + TRAIN_LABEL_DATA, 'rb'))\n",
    "\n",
    "TEST_X = np.load(open(DEFAULT_PATH + DATA_IN_PATH + TEST_INPUT_DATA, 'rb'))\n",
    "TEST_Y = np.load(open(DEFAULT_PATH + DATA_IN_PATH + TEST_LABEL_DATA, 'rb'))\n",
    "\n",
    "VALIDATION_X = np.load(open(DEFAULT_PATH + DATA_IN_PATH + VALIDATION_INPUT_DATA, 'rb'))\n",
    "VALIDATION_Y = np.load(open(DEFAULT_PATH + DATA_IN_PATH + VALIDATION_LABEL_DATA, 'rb'))\n"
   ]
  },
  {
   "cell_type": "code",
   "execution_count": 58,
   "metadata": {},
   "outputs": [
    {
     "name": "stdout",
     "output_type": "stream",
     "text": [
      "16552 16552\n",
      "1840 1840\n",
      "2044 2044\n"
     ]
    }
   ],
   "source": [
    "print(len(TRAIN_X), len(TRAIN_Y))\n",
    "print(len(TEST_X), len(TEST_Y))\n",
    "print(len(VALIDATION_X), len(VALIDATION_Y))"
   ]
  },
  {
   "cell_type": "code",
   "execution_count": 59,
   "metadata": {},
   "outputs": [
    {
     "data": {
      "text/plain": [
       "16552"
      ]
     },
     "execution_count": 59,
     "metadata": {},
     "output_type": "execute_result"
    }
   ],
   "source": [
    "len(train_y)"
   ]
  },
  {
   "cell_type": "code",
   "execution_count": 60,
   "metadata": {
    "pycharm": {
     "is_executing": true
    },
    "scrolled": false
   },
   "outputs": [
    {
     "name": "stderr",
     "output_type": "stream",
     "text": [
      "WARNING: Logging before flag parsing goes to stderr.\n",
      "W1210 22:44:00.179534 139722838202112 deprecation_wrapper.py:119] From /home/skeks463/projects/venv/lib/python3.5/site-packages/keras/backend/tensorflow_backend.py:66: The name tf.get_default_graph is deprecated. Please use tf.compat.v1.get_default_graph instead.\n",
      "\n",
      "W1210 22:44:00.188846 139722838202112 deprecation_wrapper.py:119] From /home/skeks463/projects/venv/lib/python3.5/site-packages/keras/backend/tensorflow_backend.py:541: The name tf.placeholder is deprecated. Please use tf.compat.v1.placeholder instead.\n",
      "\n",
      "W1210 22:44:00.190311 139722838202112 deprecation_wrapper.py:119] From /home/skeks463/projects/venv/lib/python3.5/site-packages/keras/backend/tensorflow_backend.py:4432: The name tf.random_uniform is deprecated. Please use tf.random.uniform instead.\n",
      "\n",
      "W1210 22:44:00.196071 139722838202112 deprecation_wrapper.py:119] From /home/skeks463/projects/venv/lib/python3.5/site-packages/keras/backend/tensorflow_backend.py:190: The name tf.get_default_session is deprecated. Please use tf.compat.v1.get_default_session instead.\n",
      "\n",
      "W1210 22:44:00.196492 139722838202112 deprecation_wrapper.py:119] From /home/skeks463/projects/venv/lib/python3.5/site-packages/keras/backend/tensorflow_backend.py:197: The name tf.ConfigProto is deprecated. Please use tf.compat.v1.ConfigProto instead.\n",
      "\n",
      "W1210 22:44:00.415868 139722838202112 deprecation.py:506] From /home/skeks463/projects/venv/lib/python3.5/site-packages/keras/backend/tensorflow_backend.py:3733: calling dropout (from tensorflow.python.ops.nn_ops) with keep_prob is deprecated and will be removed in a future version.\n",
      "Instructions for updating:\n",
      "Please use `rate` instead of `keep_prob`. Rate should be set to `rate = 1 - keep_prob`.\n"
     ]
    },
    {
     "name": "stdout",
     "output_type": "stream",
     "text": [
      "Model: \"sequential_1\"\n",
      "_________________________________________________________________\n",
      "Layer (type)                 Output Shape              Param #   \n",
      "=================================================================\n",
      "embedding_1 (Embedding)      (None, 200, 500)          3484000   \n",
      "_________________________________________________________________\n",
      "bidirectional_1 (Bidirection (None, 256)               644096    \n",
      "_________________________________________________________________\n",
      "dropout_1 (Dropout)          (None, 256)               0         \n",
      "_________________________________________________________________\n",
      "dense_1 (Dense)              (None, 64)                16448     \n",
      "_________________________________________________________________\n",
      "dropout_2 (Dropout)          (None, 64)                0         \n",
      "_________________________________________________________________\n",
      "dense_2 (Dense)              (None, 1)                 65        \n",
      "=================================================================\n",
      "Total params: 4,144,609\n",
      "Trainable params: 660,609\n",
      "Non-trainable params: 3,484,000\n",
      "_________________________________________________________________\n"
     ]
    }
   ],
   "source": [
    "def build_model(embedding_matrix: np.ndarray, input_length: int):\n",
    "    model = Sequential()\n",
    "    model.add(Embedding(\n",
    "        input_dim = embedding_matrix.shape[0],\n",
    "        output_dim = embedding_matrix.shape[1], \n",
    "        input_length = input_length,\n",
    "        weights = [embedding_matrix],\n",
    "        trainable=False))\n",
    "    model.add(Bidirectional(LSTM(128, recurrent_dropout=0.1)))\n",
    "    model.add(Dropout(0.25))\n",
    "    model.add(Dense(64))\n",
    "    model.add(Dropout(0.3))\n",
    "    model.add(Dense(1, activation='sigmoid'))\n",
    "    model.summary()\n",
    "    return model\n",
    "\n",
    "model = build_model(\n",
    "    embedding_matrix=trigrams_model.wv.vectors,\n",
    "    input_length=input_length)"
   ]
  },
  {
   "cell_type": "markdown",
   "metadata": {},
   "source": [
    "### RNN 모델링\n",
    "---"
   ]
  },
  {
   "cell_type": "code",
   "execution_count": 61,
   "metadata": {
    "pycharm": {
     "is_executing": true,
     "name": "#%%\n"
    }
   },
   "outputs": [
    {
     "name": "stderr",
     "output_type": "stream",
     "text": [
      "W1210 22:44:03.458988 139722838202112 deprecation_wrapper.py:119] From /home/skeks463/projects/venv/lib/python3.5/site-packages/keras/optimizers.py:793: The name tf.train.Optimizer is deprecated. Please use tf.compat.v1.train.Optimizer instead.\n",
      "\n",
      "W1210 22:44:03.474688 139722838202112 deprecation.py:323] From /home/skeks463/projects/venv/lib/python3.5/site-packages/tensorflow/python/ops/nn_impl.py:180: add_dispatch_support.<locals>.wrapper (from tensorflow.python.ops.array_ops) is deprecated and will be removed in a future version.\n",
      "Instructions for updating:\n",
      "Use tf.where in 2.0, which has the same broadcast rule as np.where\n"
     ]
    },
    {
     "name": "stdout",
     "output_type": "stream",
     "text": [
      "Train on 16552 samples, validate on 2044 samples\n",
      "Epoch 1/20\n",
      "16552/16552 [==============================] - 68s 4ms/step - loss: 0.6931 - acc: 0.5534 - val_loss: 0.6773 - val_acc: 0.5700\n",
      "Epoch 2/20\n",
      "16552/16552 [==============================] - 67s 4ms/step - loss: 0.6515 - acc: 0.6178 - val_loss: 0.6484 - val_acc: 0.6155\n",
      "Epoch 3/20\n",
      "16552/16552 [==============================] - 67s 4ms/step - loss: 0.6286 - acc: 0.6437 - val_loss: 0.6361 - val_acc: 0.6262\n",
      "Epoch 4/20\n",
      "16552/16552 [==============================] - 67s 4ms/step - loss: 0.6062 - acc: 0.6696 - val_loss: 0.6281 - val_acc: 0.6453\n",
      "Epoch 5/20\n",
      "16552/16552 [==============================] - 67s 4ms/step - loss: 0.5876 - acc: 0.6811 - val_loss: 0.6389 - val_acc: 0.6409\n",
      "Epoch 6/20\n",
      "16552/16552 [==============================] - 67s 4ms/step - loss: 0.5695 - acc: 0.6979 - val_loss: 0.6417 - val_acc: 0.6341\n",
      "Epoch 7/20\n",
      "16552/16552 [==============================] - 68s 4ms/step - loss: 0.5497 - acc: 0.7141 - val_loss: 0.6200 - val_acc: 0.6605\n",
      "Epoch 8/20\n",
      "16552/16552 [==============================] - 67s 4ms/step - loss: 0.5277 - acc: 0.7310 - val_loss: 0.6263 - val_acc: 0.6629\n",
      "Epoch 9/20\n",
      "16552/16552 [==============================] - 68s 4ms/step - loss: 0.4980 - acc: 0.7551 - val_loss: 0.6191 - val_acc: 0.6761\n",
      "Epoch 10/20\n",
      "16552/16552 [==============================] - 68s 4ms/step - loss: 0.4815 - acc: 0.7630 - val_loss: 0.6454 - val_acc: 0.6688\n",
      "Epoch 11/20\n",
      "16552/16552 [==============================] - 68s 4ms/step - loss: 0.4497 - acc: 0.7832 - val_loss: 0.6395 - val_acc: 0.6747\n",
      "Epoch 12/20\n",
      "16552/16552 [==============================] - 68s 4ms/step - loss: 0.4154 - acc: 0.8021 - val_loss: 0.6930 - val_acc: 0.6751\n",
      "Epoch 13/20\n",
      "16552/16552 [==============================] - 68s 4ms/step - loss: 0.3895 - acc: 0.8184 - val_loss: 0.7227 - val_acc: 0.6712\n",
      "Epoch 14/20\n",
      "16552/16552 [==============================] - 69s 4ms/step - loss: 0.3618 - acc: 0.8328 - val_loss: 0.7333 - val_acc: 0.6776\n",
      "Epoch 15/20\n",
      "16552/16552 [==============================] - 68s 4ms/step - loss: 0.3286 - acc: 0.8507 - val_loss: 0.7952 - val_acc: 0.6712\n",
      "Epoch 16/20\n",
      "16552/16552 [==============================] - 68s 4ms/step - loss: 0.2935 - acc: 0.8673 - val_loss: 0.8614 - val_acc: 0.6678\n",
      "Epoch 17/20\n",
      "16552/16552 [==============================] - 68s 4ms/step - loss: 0.2709 - acc: 0.8801 - val_loss: 0.8623 - val_acc: 0.6668\n",
      "Epoch 18/20\n",
      "16552/16552 [==============================] - 68s 4ms/step - loss: 0.2495 - acc: 0.8885 - val_loss: 0.8911 - val_acc: 0.6683\n",
      "Epoch 19/20\n",
      "16552/16552 [==============================] - 69s 4ms/step - loss: 0.2235 - acc: 0.9012 - val_loss: 1.0185 - val_acc: 0.6751\n",
      "Epoch 20/20\n",
      "16552/16552 [==============================] - 68s 4ms/step - loss: 0.2107 - acc: 0.9116 - val_loss: 1.0719 - val_acc: 0.6683\n"
     ]
    }
   ],
   "source": [
    "model.compile(\n",
    "    loss=\"binary_crossentropy\",\n",
    "    optimizer='adam',\n",
    "    metrics=['accuracy'])\n",
    "\n",
    "history = model.fit(\n",
    "    x=TRAIN_X,\n",
    "    y=TRAIN_Y,\n",
    "    validation_data=(VALIDATION_X, VALIDATION_Y),\n",
    "    batch_size=100,\n",
    "    epochs=20)\n",
    "\n"
   ]
  },
  {
   "cell_type": "code",
   "execution_count": 63,
   "metadata": {},
   "outputs": [
    {
     "name": "stdout",
     "output_type": "stream",
     "text": [
      "CPU times: user 3min 34s, sys: 5.63 s, total: 3min 40s\n",
      "Wall time: 30 s\n"
     ]
    }
   ],
   "source": [
    "%%time\n",
    "y_train_pred = model.predict_classes(TRAIN_X)\n",
    "y_test_pred = model.predict_classes(TEST_X)"
   ]
  },
  {
   "cell_type": "code",
   "execution_count": 64,
   "metadata": {
    "scrolled": true
   },
   "outputs": [
    {
     "data": {
      "text/plain": [
       "numpy.ndarray"
      ]
     },
     "execution_count": 64,
     "metadata": {},
     "output_type": "execute_result"
    }
   ],
   "source": [
    "pred_y_train = np.array([str(x[0]) for x in y_train_pred])\n",
    "pred_y_test = np.array([str(x[0]) for x in y_test_pred])\n",
    "\n",
    "type(pred_y_train)"
   ]
  },
  {
   "cell_type": "code",
   "execution_count": 65,
   "metadata": {},
   "outputs": [
    {
     "data": {
      "image/png": "[encoded data removed]",
      "text/plain": [
       "<Figure size 1152x432 with 2 Axes>"
      ]
     },
     "metadata": {
      "needs_background": "light"
     },
     "output_type": "display_data"
    }
   ],
   "source": [
    "fig, (axis1, axis2) = plt.subplots(nrows=1, ncols=2, figsize=(16,6))\n",
    "\n",
    "# Accuracy Histroy\n",
    "axis1.plot(history.history['acc'], label='Train', linewidth=3)\n",
    "axis1.plot(history.history['val_acc'], label='Validation', linewidth=3)\n",
    "axis1.set_title('Model accuracy', fontsize=16)\n",
    "axis1.set_ylabel('accuracy')\n",
    "axis1.set_xlabel('epoch')\n",
    "axis1.legend(loc='upper left')\n",
    "\n",
    "# Loss Histroy\n",
    "axis2.plot(history.history['loss'], label='Train', linewidth=3)\n",
    "axis2.plot(history.history['val_loss'], label='Validation', linewidth=3)\n",
    "axis2.set_title('Model loss', fontsize=16)\n",
    "axis2.set_ylabel('loss')\n",
    "axis2.set_xlabel('epoch')\n",
    "axis2.legend(loc='upper right')\n",
    "plt.show()"
   ]
  },
  {
   "cell_type": "code",
   "execution_count": null,
   "metadata": {},
   "outputs": [],
   "source": []
  }
 ],
 "metadata": {
  "kernelspec": {
   "display_name": "Python 3",
   "language": "python",
   "name": "python3"
  },
  "language_info": {
   "codemirror_mode": {
    "name": "ipython",
    "version": 3
   },
   "file_extension": ".py",
   "mimetype": "text/x-python",
   "name": "python",
   "nbconvert_exporter": "python",
   "pygments_lexer": "ipython3",
   "version": "3.5.2"
  },
  "pycharm": {
   "stem_cell": {
    "cell_type": "raw",
    "metadata": {
     "collapsed": false
    },
    "source": []
   }
  }
 },
 "nbformat": 4,
 "nbformat_minor": 2
}
