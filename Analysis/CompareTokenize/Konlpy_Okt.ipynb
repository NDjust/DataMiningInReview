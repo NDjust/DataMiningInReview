{
 "cells": [
  {
   "cell_type": "code",
   "execution_count": 1,
   "metadata": {},
   "outputs": [
    {
     "name": "stderr",
     "output_type": "stream",
     "text": [
      "Using TensorFlow backend.\n"
     ]
    }
   ],
   "source": [
    "import pandas as pd\n",
    "from imblearn.under_sampling import RandomUnderSampler\n",
    "import re"
   ]
  },
  {
   "cell_type": "code",
   "execution_count": 2,
   "metadata": {},
   "outputs": [
    {
     "data": {
      "text/plain": [
       "1    82598\n",
       "0    10218\n",
       "Name: score, dtype: int64"
      ]
     },
     "execution_count": 2,
     "metadata": {},
     "output_type": "execute_result"
    }
   ],
   "source": [
    "df = pd.read_csv(\"D:/Users/Dada/Downloads/total_data_11_27.csv\", encoding = 'utf-8-sig')\n",
    "df = df.dropna()\n",
    "df['score'].value_counts()"
   ]
  },
  {
   "cell_type": "code",
   "execution_count": 4,
   "metadata": {},
   "outputs": [
    {
     "data": {
      "text/plain": [
       "<matplotlib.axes._subplots.AxesSubplot at 0x1bc6a8098c8>"
      ]
     },
     "execution_count": 4,
     "metadata": {},
     "output_type": "execute_result"
    },
    {
     "data": {
      "image/png": "[encoded data removed]",
      "text/plain": [
       "<Figure size 576x288 with 1 Axes>"
      ]
     },
     "metadata": {
      "needs_background": "light"
     },
     "output_type": "display_data"
    }
   ],
   "source": [
    "import matplotlib.pyplot as plt\n",
    "import seaborn as sns\n",
    "\n",
    "plt.figure(figsize=(8,4))\n",
    "sns.countplot('score', data = df)"
   ]
  },
  {
   "cell_type": "code",
   "execution_count": 3,
   "metadata": {},
   "outputs": [
    {
     "data": {
      "text/plain": [
       "1    10218\n",
       "0    10218\n",
       "Name: score, dtype: int64"
      ]
     },
     "execution_count": 3,
     "metadata": {},
     "output_type": "execute_result"
    }
   ],
   "source": [
    "# Solve data imbalanced\n",
    "def under_sampling(df, target_label):\n",
    "    rus  = RandomUnderSampler(return_indices=True)\n",
    "    X_tl, y_tl, id_tl = rus.fit_sample(df, df[target_label])\n",
    "\n",
    "    # remake data frame.\n",
    "    columns = df.columns\n",
    "    df = pd.DataFrame(X_tl, columns=columns)\n",
    "    # df = df.astype(float)\n",
    "\n",
    "    return df\n",
    "\n",
    "df = under_sampling(df, \"score\")\n",
    "df['score'].value_counts()"
   ]
  },
  {
   "cell_type": "code",
   "execution_count": 4,
   "metadata": {},
   "outputs": [],
   "source": [
    "# remove emoji\n",
    "def emoji(df):\n",
    "    EMOJI = re.compile('[\\U00010000-\\U0010ffff]', flags=re.UNICODE)\n",
    "    return EMOJI.sub(r'', df)\n",
    "\n",
    "df['review'] = df['review'].apply(emoji)\n",
    "\n",
    "# replace \\n\n",
    "def replaceText(df):\n",
    "    text = df.replace(\"\\n\",\".\")\n",
    "    return text\n",
    "\n",
    "df['review'] = df['review'].apply(replaceText)\n",
    "\n",
    "# regular expression\n",
    "def cleanText(df):\n",
    "    text = re.sub('[-=+,#/\\?:^$.@*\\\"※~&%ㆍ!』\\\\‘|\\(\\)\\[\\]\\<\\>`\\'…》]', '', df)\n",
    "    return text\n",
    "\n",
    "df['review'] = df['review'].apply(cleanText)\n"
   ]
  },
  {
   "cell_type": "code",
   "execution_count": 5,
   "metadata": {},
   "outputs": [
    {
     "name": "stderr",
     "output_type": "stream",
     "text": [
      "C:\\Users\\dadadah_ye\\Anaconda3\\lib\\site-packages\\jpype\\_core.py:210: UserWarning: \n",
      "-------------------------------------------------------------------------------\n",
      "Deprecated: convertStrings was not specified when starting the JVM. The default\n",
      "behavior in JPype will be False starting in JPype 0.8. The recommended setting\n",
      "for new code is convertStrings=False.  The legacy value of True was assumed for\n",
      "this session. If you are a user of an application that reported this warning,\n",
      "please file a ticket with the developer.\n",
      "-------------------------------------------------------------------------------\n",
      "\n",
      "  \"\"\")\n"
     ]
    }
   ],
   "source": [
    "from konlpy.tag import Okt\n",
    "from sklearn.model_selection import train_test_split\n",
    "\n",
    "okt = Okt()\n",
    "train, test = train_test_split(df, test_size=0.2)\n",
    "\n",
    "train_x = []\n",
    "train_y = []\n",
    "test_x = []\n",
    "test_y = []\n",
    "\n",
    "for i, row in train.iterrows():\n",
    "    train_x.append(['/'.join(token) for token in okt.pos(row[0])])\n",
    "    train_y.append(row[1])\n",
    "    \n",
    "for i, row in test.iterrows():\n",
    "    test_x.append(['/'.join(token) for token in okt.pos(row[0])])\n",
    "    test_y.append(row[1])"
   ]
  },
  {
   "cell_type": "code",
   "execution_count": 6,
   "metadata": {},
   "outputs": [
    {
     "data": {
      "text/plain": [
       "[['명성/Noun',\n",
       "  '에/Josa',\n",
       "  '비/Noun',\n",
       "  '해/Verb',\n",
       "  '선/Noun',\n",
       "  '쏘/Verb',\n",
       "  '쏘/Verb',\n",
       "  '갈비/Noun',\n",
       "  '에서/Josa',\n",
       "  '붙임/Verb',\n",
       "  '고기/Noun',\n",
       "  '의/Josa',\n",
       "  '비율/Noun',\n",
       "  '이/Josa',\n",
       "  '너무/Adverb',\n",
       "  '많다/Adjective',\n",
       "  '전/Modifier',\n",
       "  '지인/Noun',\n",
       "  '것/Noun',\n",
       "  '같은데/Adjective',\n",
       "  '좀/Noun',\n",
       "  '아쉽다/Adjective'],\n",
       " ['가성/Noun',\n",
       "  '비/Noun',\n",
       "  '괜찮음/Adjective',\n",
       "  '고기/Noun',\n",
       "  '맛/Noun',\n",
       "  '은/Josa',\n",
       "  '때때로/Adverb',\n",
       "  '달라지는듯/Verb'],\n",
       " ['3시/Number',\n",
       "  '반쯤/Foreign',\n",
       "  '가서/Verb',\n",
       "  '그런지/Adjective',\n",
       "  '기다리지/Verb',\n",
       "  '않고/Verb',\n",
       "  '바로/Noun',\n",
       "  '들어갔어요/Verb',\n",
       "  '쯩겨/Noun',\n",
       "  '꾸어/Verb',\n",
       "  '띠얼/Noun',\n",
       "  '하이/Noun',\n",
       "  '샤오롱바오/Noun',\n",
       "  '가/Josa',\n",
       "  '나오는/Verb',\n",
       "  '하이/Noun',\n",
       "  '세트/Noun',\n",
       "  '를/Josa',\n",
       "  '주문/Noun',\n",
       "  '했어요/Verb',\n",
       "  '찐/Verb',\n",
       "  '만두/Noun',\n",
       "  '같이/Josa',\n",
       "  '생긴/Verb',\n",
       "  '쯩겨/Noun',\n",
       "  '는/Josa',\n",
       "  '흔히/Adjective',\n",
       "  '보는/Verb',\n",
       "  '모양/Noun',\n",
       "  '이지만/Josa',\n",
       "  '육즙/Noun',\n",
       "  '이/Josa',\n",
       "  '꽉차있어요/Verb',\n",
       "  '그리고/Conjunction',\n",
       "  '쟈니/Noun',\n",
       "  '덤/Noun',\n",
       "  '플/Exclamation',\n",
       "  '링/Noun',\n",
       "  '만두/Noun',\n",
       "  '같이/Josa',\n",
       "  '생긴/Verb',\n",
       "  '꾸어/Verb',\n",
       "  '띠/Noun',\n",
       "  '얼은/Verb',\n",
       "  '개인/Noun',\n",
       "  '적/Suffix',\n",
       "  '으론/Josa',\n",
       "  '쟈니/Noun',\n",
       "  '덤/Noun',\n",
       "  '플/Exclamation',\n",
       "  '링/Noun',\n",
       "  '게/Josa',\n",
       "  '더/Noun',\n",
       "  '맛있었어요/Adjective',\n",
       "  '세/Modifier',\n",
       "  '개/Noun',\n",
       "  '중/Noun',\n",
       "  '에/Josa',\n",
       "  '좀/Noun',\n",
       "  '떨어지는/Verb',\n",
       "  '맛/Noun',\n",
       "  '그리고/Conjunction',\n",
       "  '베스트/Noun',\n",
       "  '는/Josa',\n",
       "  '하이/Noun',\n",
       "  '샤오롱바오/Noun',\n",
       "  '인데/Josa',\n",
       "  '다른/Noun',\n",
       "  '가게/Noun',\n",
       "  '의/Josa',\n",
       "  '샤오롱바오/Noun',\n",
       "  '는/Josa',\n",
       "  '젤라틴/Noun',\n",
       "  '을/Josa',\n",
       "  '써서/Verb',\n",
       "  '육즙/Noun',\n",
       "  '이/Josa',\n",
       "  '많은/Adjective',\n",
       "  '대신/Noun',\n",
       "  '에/Josa',\n",
       "  '좀/Noun',\n",
       "  '느끼할/Adjective',\n",
       "  '수/Noun',\n",
       "  '있어서/Adjective',\n",
       "  '생강/Noun',\n",
       "  '초/Noun',\n",
       "  '절임/Noun',\n",
       "  '이랑/Josa',\n",
       "  '같이/Adverb',\n",
       "  '먹잖아요/Verb',\n",
       "  '지금/Noun',\n",
       "  '생각/Noun',\n",
       "  '해보면/Verb',\n",
       "  '그냥/Noun',\n",
       "  '먹어도/Verb',\n",
       "  '맛있었나/Adjective',\n",
       "  '기억/Noun',\n",
       "  '이/Josa',\n",
       "  '잘/Verb',\n",
       "  '안나/Noun',\n",
       "  '는/Josa',\n",
       "  '이/Noun',\n",
       "  '가게/Noun',\n",
       "  '의/Josa',\n",
       "  '하이/Noun',\n",
       "  '샤오롱바오/Noun',\n",
       "  '는/Josa',\n",
       "  '남경/Noun',\n",
       "  '식/Suffix',\n",
       "  '이라/Josa',\n",
       "  '젤라틴/Noun',\n",
       "  '을/Josa',\n",
       "  '안/VerbPrefix',\n",
       "  '써서/Verb',\n",
       "  '피/Noun',\n",
       "  '가/Josa',\n",
       "  '육즙/Noun',\n",
       "  '을/Josa',\n",
       "  '먹기전에/Verb',\n",
       "  '내/Noun',\n",
       "  '가/Josa',\n",
       "  '먼저/Noun',\n",
       "  'ㅋㅋㅋ/KoreanParticle',\n",
       "  '빨리/Adverb',\n",
       "  '먹어야하고/Verb',\n",
       "  '안/VerbPrefix',\n",
       "  '그러면/Adjective',\n",
       "  '손해/Noun',\n",
       "  '라고/Josa',\n",
       "  '사장/Noun',\n",
       "  '님/Suffix',\n",
       "  '이/Josa',\n",
       "  '말씀/Noun',\n",
       "  '하셨어요/Verb',\n",
       "  'ㅋㅋ/KoreanParticle',\n",
       "  '그래서/Adverb',\n",
       "  '육즙/Noun',\n",
       "  '이/Josa',\n",
       "  '막/Noun',\n",
       "  '흐를/Verb',\n",
       "  '정도/Noun',\n",
       "  '는/Josa',\n",
       "  '아닌데/Adjective',\n",
       "  '깔끔하고/Adjective',\n",
       "  '새우/Noun',\n",
       "  '가/Josa',\n",
       "  '통통/Noun',\n",
       "  '게살/Noun',\n",
       "  '도/Josa',\n",
       "  '많이/Adverb',\n",
       "  '느껴지는게/Verb',\n",
       "  '쇼/Noun',\n",
       "  '마이/Noun',\n",
       "  '맛/Noun',\n",
       "  '이/Josa',\n",
       "  '오히려/Noun',\n",
       "  '나더라구요/Verb',\n",
       "  'ㅎㅎ/KoreanParticle',\n",
       "  '게살/Noun',\n",
       "  '을/Josa',\n",
       "  '피/Noun',\n",
       "  '안/Noun',\n",
       "  '에/Josa',\n",
       "  '싼/Verb',\n",
       "  '쇼/Noun',\n",
       "  '마이/Noun',\n",
       "  '맛/Noun',\n",
       "  '이었어요/Verb',\n",
       "  '기다리지/Verb',\n",
       "  '않는다면/Verb',\n",
       "  '충분히/Adjective',\n",
       "  '가볼만/Verb',\n",
       "  '한/Determiner',\n",
       "  '곳/Noun',\n",
       "  '인/Josa',\n",
       "  '것/Noun',\n",
       "  '같고/Adjective',\n",
       "  '가성/Noun',\n",
       "  '비/Noun',\n",
       "  '가/Josa',\n",
       "  '좋아요/Adjective',\n",
       "  'ㅎㅎ/KoreanParticle',\n",
       "  '요리/Noun',\n",
       "  '도/Josa',\n",
       "  '궁금하네요/Adjective'],\n",
       " ['피자/Noun',\n",
       "  '보다는/Josa',\n",
       "  '파스타/Noun',\n",
       "  '가/Josa',\n",
       "  '훨씬/Adverb',\n",
       "  '맛있었습니다/Adjective',\n",
       "  '아무래도/Adverb',\n",
       "  '간이/Noun',\n",
       "  '세서/Verb',\n",
       "  '좀/Noun',\n",
       "  '많이/Adverb',\n",
       "  '짜네요/Verb',\n",
       "  '가격/Noun',\n",
       "  '과/Josa',\n",
       "  '명성/Noun',\n",
       "  '에/Josa',\n",
       "  '비/Noun',\n",
       "  '해서는/Verb',\n",
       "  '좀/Noun',\n",
       "  '실망했어요/Adjective'],\n",
       " ['초코/Noun',\n",
       "  '라떼/Noun',\n",
       "  '시켜/Verb',\n",
       "  '보았는데/Verb',\n",
       "  '정말/Noun',\n",
       "  '맛/Noun',\n",
       "  '나/Josa',\n",
       "  '여/Noun'],\n",
       " ['커피/Noun',\n",
       "  '맛/Noun',\n",
       "  '도/Josa',\n",
       "  '좋고/Adjective',\n",
       "  '친구/Noun',\n",
       "  '들/Suffix',\n",
       "  '과/Josa',\n",
       "  '편안히/Adjective',\n",
       "  '쉬어가기/Verb',\n",
       "  '좋은/Adjective',\n",
       "  '곳/Noun',\n",
       "  '우리/Noun',\n",
       "  '들/Suffix',\n",
       "  '에게/Josa',\n",
       "  '참/Verb',\n",
       "  '멋진/Adjective',\n",
       "  '곳/Noun'],\n",
       " ['가격/Noun',\n",
       "  '대비/Noun',\n",
       "  '무난/Noun',\n",
       "  '분위기/Noun',\n",
       "  '가/Josa',\n",
       "  '좋은/Adjective',\n",
       "  '타코/Noun',\n",
       "  '부리또/Noun',\n",
       "  '플/Exclamation',\n",
       "  '레이스/Noun',\n",
       "  '분위기/Noun',\n",
       "  '가/Josa',\n",
       "  '좋아서/Adjective',\n",
       "  '들어간/Verb',\n",
       "  '곳/Noun',\n",
       "  '망고/Noun',\n",
       "  '플레이/Noun',\n",
       "  '트/Noun',\n",
       "  '체크/Noun',\n",
       "  '인/Josa',\n",
       "  '이벤트/Noun',\n",
       "  '를/Josa',\n",
       "  '하고/Verb',\n",
       "  '있어서/Adjective',\n",
       "  '놀랐다는/Verb',\n",
       "  '이벤트/Noun',\n",
       "  '덕/Noun',\n",
       "  '에/Josa',\n",
       "  '기본/Noun',\n",
       "  '으로/Josa',\n",
       "  '나오는/Verb',\n",
       "  '나초/Noun',\n",
       "  '리필/Noun',\n",
       "  '과/Josa',\n",
       "  '시나몬/Noun',\n",
       "  '두유/Noun',\n",
       "  '음료/Noun',\n",
       "  '서비스/Noun',\n",
       "  '받았어요/Verb',\n",
       "  '프라/Noun',\n",
       "  '이즈/Noun',\n",
       "  '는/Josa',\n",
       "  '무난/Noun',\n",
       "  '하고/Josa',\n",
       "  '부리또/Noun',\n",
       "  '소고기/Noun',\n",
       "  '로/Josa',\n",
       "  '시켰는데/Verb',\n",
       "  '10분/Number',\n",
       "  '지나니/Verb',\n",
       "  '고기/Noun',\n",
       "  '가/Josa',\n",
       "  '딱딱해져서/Adjective',\n",
       "  '고기/Noun',\n",
       "  '는/Josa',\n",
       "  '그냥/Noun',\n",
       "  '빼고/Verb',\n",
       "  '먹었어요/Verb',\n",
       "  '맛/Noun',\n",
       "  '은/Josa',\n",
       "  '가격/Noun',\n",
       "  '대비/Noun',\n",
       "  '무난/Noun',\n",
       "  '하다는/Verb',\n",
       "  '생각/Noun',\n",
       "  '이/Josa',\n",
       "  '들고/Verb',\n",
       "  '분위기/Noun',\n",
       "  '는/Josa',\n",
       "  '외국/Noun',\n",
       "  '느낌/Noun',\n",
       "  '물씬/Noun',\n",
       "  '나요/Eomi',\n",
       "  '제/Noun',\n",
       "  '친구/Noun',\n",
       "  '는/Josa',\n",
       "  '음악/Noun',\n",
       "  '소리/Noun',\n",
       "  '가/Josa',\n",
       "  '너무/Adverb',\n",
       "  '시끄럽다고/Adjective',\n",
       "  '했으나/Verb',\n",
       "  '저/Noun',\n",
       "  '는/Josa',\n",
       "  '만족/Noun'],\n",
       " ['존맛탱/Noun',\n",
       "  '이에요/Josa',\n",
       "  '팟/Noun',\n",
       "  '씨유/Noun',\n",
       "  '제/Noun',\n",
       "  '인생/Noun',\n",
       "  '팟/Noun',\n",
       "  '씨유/Noun',\n",
       "  '입니다/Adjective',\n",
       "  '꿍/Noun',\n",
       "  '팟퐁/Noun',\n",
       "  '까/Verb',\n",
       "  '리/Noun',\n",
       "  '의/Josa',\n",
       "  '새우/Noun',\n",
       "  '크기/Noun',\n",
       "  '탱/Adverb',\n",
       "  '글함/Noun',\n",
       "  '믿을수/Verb',\n",
       "  '없어요/Adjective',\n",
       "  '크랩/Noun',\n",
       "  '은/Josa',\n",
       "  '먹기/Noun',\n",
       "  '힘들거/Adjective',\n",
       "  '같아서/Adjective',\n",
       "  '새우/Noun',\n",
       "  '로/Josa',\n",
       "  '했더니/Verb',\n",
       "  '완벽/Noun',\n",
       "  '밥류/Noun',\n",
       "  '는/Josa',\n",
       "  '처음/Noun',\n",
       "  '먹는/Verb',\n",
       "  '동남아/Noun',\n",
       "  '쌀/Noun',\n",
       "  '이라서/Josa',\n",
       "  '소화/Noun',\n",
       "  '가/Josa',\n",
       "  '조금/Noun',\n",
       "  '더뎠어요/Verb',\n",
       "  'ㅠㅠ/KoreanParticle',\n",
       "  '처음/Noun',\n",
       "  '드시는/Verb',\n",
       "  '분/Noun',\n",
       "  '들/Suffix',\n",
       "  '은/Josa',\n",
       "  '참고/Noun',\n",
       "  '해주세요/Verb',\n",
       "  '그래도/Adverb',\n",
       "  '퐁까리/Noun',\n",
       "  '가/Josa',\n",
       "  '간이/Noun',\n",
       "  '있어서/Adjective',\n",
       "  '밥/Noun',\n",
       "  '추가/Noun',\n",
       "  '해/Verb',\n",
       "  '소스/Noun',\n",
       "  '에/Josa',\n",
       "  '충분히/Adjective',\n",
       "  '적셔/Verb',\n",
       "  '드시면/Verb',\n",
       "  '됩니다/Verb',\n",
       "  'ღᴗღ/Foreign',\n",
       "  '똠얌꿍/Noun',\n",
       "  '은/Josa',\n",
       "  '많이/Adverb',\n",
       "  '시큼하니까/Adjective',\n",
       "  '현지/Noun',\n",
       "  '맛/Noun',\n",
       "  '을/Josa',\n",
       "  '아시/Noun',\n",
       "  '는/Josa',\n",
       "  '분만/Noun',\n",
       "  '주문/Noun',\n",
       "  '하세용/Verb'],\n",
       " ['분위기/Noun',\n",
       "  '며/Josa',\n",
       "  '메뉴판/Noun',\n",
       "  '이며/Josa',\n",
       "  '음식/Noun',\n",
       "  '이며/Josa',\n",
       "  '다/Adverb',\n",
       "  '미국/Noun',\n",
       "  '식/Suffix',\n",
       "  '메뉴/Noun',\n",
       "  '도/Josa',\n",
       "  '다양해서/Adjective',\n",
       "  '고르는/Verb',\n",
       "  '재미/Noun',\n",
       "  '가/Josa',\n",
       "  '있어요/Adjective',\n",
       "  '플래터/Noun',\n",
       "  '를/Josa',\n",
       "  '항상/Noun',\n",
       "  '많이/Adverb',\n",
       "  '먹게/Verb',\n",
       "  '되는데/Verb',\n",
       "  '음식/Noun',\n",
       "  '구성/Noun',\n",
       "  '도/Josa',\n",
       "  '다양하고/Adjective',\n",
       "  '팬케이크/Noun',\n",
       "  '랑/Josa',\n",
       "  '프렌치토스트/Noun',\n",
       "  '다/Adverb',\n",
       "  '너무/Adverb',\n",
       "  '맛있네요/Adjective',\n",
       "  'ㅠㅠ/KoreanParticle',\n",
       "  '배부른/Adjective',\n",
       "  '브런치/Noun',\n",
       "  '하고싶을/Verb',\n",
       "  '때/Noun',\n",
       "  '꼭/Noun',\n",
       "  '찾게/Verb',\n",
       "  '되는/Verb',\n",
       "  '곳/Noun'],\n",
       " ['카페/Noun',\n",
       "  '도/Josa',\n",
       "  '타르트/Noun',\n",
       "  '도/Josa',\n",
       "  '다/Adverb',\n",
       "  '예뻐서/Adjective',\n",
       "  '취향/Noun',\n",
       "  '저격/Noun',\n",
       "  '하/Suffix',\n",
       "  '는/Josa',\n",
       "  '타르/Noun',\n",
       "  '타르/Noun',\n",
       "  '자몽/Noun',\n",
       "  '이랑/Josa',\n",
       "  '에그타르트/Noun',\n",
       "  '를/Josa',\n",
       "  '먹었는데/Verb',\n",
       "  '에그타르트/Noun',\n",
       "  '가/Josa',\n",
       "  '진짜/Noun',\n",
       "  '풍/Adverb',\n",
       "  '미가/Noun',\n",
       "  '좋고/Adjective',\n",
       "  '맛있어서/Adjective',\n",
       "  '반했다/Adjective',\n",
       "  '우리동네/Noun',\n",
       "  '에도/Josa',\n",
       "  '생겼는데/Verb',\n",
       "  '자주/Noun',\n",
       "  '가서/Verb',\n",
       "  '타르트/Noun',\n",
       "  '하나/Noun',\n",
       "  '하나/Noun',\n",
       "  '정복/Noun',\n",
       "  '해야겠다/Verb']]"
      ]
     },
     "execution_count": 6,
     "metadata": {},
     "output_type": "execute_result"
    }
   ],
   "source": [
    "train_x[0:10]"
   ]
  },
  {
   "cell_type": "code",
   "execution_count": 7,
   "metadata": {},
   "outputs": [
    {
     "data": {
      "text/plain": [
       "['명성/Noun',\n",
       " '에/Josa',\n",
       " '비/Noun',\n",
       " '해/Verb',\n",
       " '선/Noun',\n",
       " '쏘/Verb',\n",
       " '쏘/Verb',\n",
       " '갈비/Noun',\n",
       " '에서/Josa',\n",
       " '붙임/Verb']"
      ]
     },
     "execution_count": 7,
     "metadata": {},
     "output_type": "execute_result"
    }
   ],
   "source": [
    "tokens = [d for token in train_x for d in token]\n",
    "tokens[0:10]"
   ]
  },
  {
   "cell_type": "code",
   "execution_count": 19,
   "metadata": {},
   "outputs": [
    {
     "name": "stdout",
     "output_type": "stream",
     "text": [
      "915367\n"
     ]
    }
   ],
   "source": [
    "import nltk\n",
    "\n",
    "text = nltk.Text(tokens, name='NMSC')\n",
    "print(len(text))"
   ]
  },
  {
   "cell_type": "markdown",
   "metadata": {},
   "source": [
    "### visualization most 50 words."
   ]
  },
  {
   "cell_type": "code",
   "execution_count": 9,
   "metadata": {},
   "outputs": [
    {
     "data": {
      "image/png": "[encoded data removed]",
      "text/plain": [
       "<Figure size 1440x720 with 1 Axes>"
      ]
     },
     "metadata": {
      "needs_background": "light"
     },
     "output_type": "display_data"
    }
   ],
   "source": [
    "import matplotlib.pyplot as plt\n",
    "from matplotlib import font_manager, rc\n",
    "%matplotlib inline\n",
    "\n",
    "font_name = font_manager.FontProperties(fname=\"c:/Windows/Fonts/malgun.ttf\").get_name()\n",
    "rc('font', family=font_name)\n",
    "\n",
    "plt.figure(figsize=(20,10))\n",
    "text.plot(50)"
   ]
  },
  {
   "cell_type": "code",
   "execution_count": 10,
   "metadata": {},
   "outputs": [
    {
     "data": {
      "text/plain": [
       "['이/Josa',\n",
       " '에/Josa',\n",
       " '가/Josa',\n",
       " '는/Josa',\n",
       " '은/Josa',\n",
       " '도/Josa',\n",
       " '을/Josa',\n",
       " '맛/Noun',\n",
       " '를/Josa',\n",
       " '의/Josa']"
      ]
     },
     "execution_count": 10,
     "metadata": {},
     "output_type": "execute_result"
    }
   ],
   "source": [
    "selected_words = [f[0] for f in text.vocab().most_common(10000)]\n",
    "selected_words[0:10]"
   ]
  },
  {
   "cell_type": "code",
   "execution_count": 11,
   "metadata": {},
   "outputs": [],
   "source": [
    "def term_frequency(doc):\n",
    "    return [doc.count(word) for word in selected_words]\n",
    "\n",
    "train_x = [term_frequency(d) for d in train_x]\n",
    "test_x = [term_frequency(d) for d in test_x]\n",
    "train_y = [c for c in train_y]\n",
    "test_y = [c for c in test_y]"
   ]
  },
  {
   "cell_type": "code",
   "execution_count": 12,
   "metadata": {},
   "outputs": [],
   "source": [
    "import numpy as np\n",
    "\n",
    "x_train = np.asarray(train_x).astype('float32')\n",
    "x_test = np.asarray(test_x).astype('float32')\n",
    "y_train = np.asarray(train_y).astype('float32')\n",
    "y_test = np.asarray(test_y).astype('float32')"
   ]
  },
  {
   "cell_type": "markdown",
   "metadata": {},
   "source": [
    "### modeling"
   ]
  },
  {
   "cell_type": "code",
   "execution_count": 13,
   "metadata": {},
   "outputs": [
    {
     "name": "stdout",
     "output_type": "stream",
     "text": [
      "Navie Bayes accuracy = 0.7460861056751468\n"
     ]
    }
   ],
   "source": [
    "# Naive Bayes\n",
    "from sklearn.naive_bayes import MultinomialNB\n",
    "from sklearn.metrics import *\n",
    "\n",
    "naivebayes = MultinomialNB()\n",
    "naivebayes.fit(x_train, y_train)\n",
    "\n",
    "'''for i in np.arange(0, 1.01, 0.05):\n",
    "    threshold = i\n",
    "    predicated_proba = naivebayes.predict_proba(x_test)\n",
    "    predicted = (predicated_proba[:,1] >= i).astype('int')\n",
    "    \n",
    "    accuracy = accuracy_score(y_test, predicted)\n",
    "    print('threshold = {}, accuracy = {}'.format(i, accuracy))'''\n",
    "\n",
    "print('Navie Bayes accuracy = {}'.format(naivebayes.score(x_test,y_test)))"
   ]
  },
  {
   "cell_type": "markdown",
   "metadata": {},
   "source": [
    "### ROC curve"
   ]
  },
  {
   "cell_type": "code",
   "execution_count": 14,
   "metadata": {},
   "outputs": [
    {
     "data": {
      "text/plain": [
       "0.7450953532303614"
      ]
     },
     "execution_count": 14,
     "metadata": {},
     "output_type": "execute_result"
    }
   ],
   "source": [
    "import numpy as np\n",
    "import matplotlib.pyplot as plt\n",
    "\n",
    "y_pred = naivebayes.predict(x_test).ravel()\n",
    "#y_pred = (predicated_proba[:,1] >= 0.7).astype('int')\n",
    "fpr, tpr, thresholds = roc_curve(y_test, y_pred)\n",
    "auc_curve = auc(fpr, tpr)\n",
    "auc_curve"
   ]
  },
  {
   "cell_type": "code",
   "execution_count": 15,
   "metadata": {},
   "outputs": [
    {
     "data": {
      "image/png": "[encoded data removed]",
      "text/plain": [
       "<Figure size 432x288 with 1 Axes>"
      ]
     },
     "metadata": {
      "needs_background": "light"
     },
     "output_type": "display_data"
    }
   ],
   "source": [
    "plt.plot(fpr, tpr, label='Okt Tokenize')\n",
    "plt.legend()\n",
    "plt.plot([0, 1], [0, 1], 'k--')\n",
    "plt.xlabel('위양성률(Fall-Out)')\n",
    "plt.ylabel('재현률(Recall)')\n",
    "plt.title('ROC curve')\n",
    "plt.show()"
   ]
  },
  {
   "cell_type": "markdown",
   "metadata": {},
   "source": [
    "### Confusion Matrix"
   ]
  },
  {
   "cell_type": "code",
   "execution_count": 16,
   "metadata": {},
   "outputs": [
    {
     "name": "stdout",
     "output_type": "stream",
     "text": [
      "[[1403  593]\n",
      " [ 445 1647]]\n",
      "Recall = 0.7872848948374761\n"
     ]
    }
   ],
   "source": [
    "print(confusion_matrix(y_test, y_pred))\n",
    "print('Recall = {}'.format(recall_score(y_test, y_pred)))"
   ]
  },
  {
   "cell_type": "code",
   "execution_count": 17,
   "metadata": {
    "scrolled": false
   },
   "outputs": [
    {
     "data": {
      "text/plain": [
       "<matplotlib.axes._subplots.AxesSubplot at 0x2a477c9b748>"
      ]
     },
     "execution_count": 17,
     "metadata": {},
     "output_type": "execute_result"
    },
    {
     "data": {
      "image/png": "[encoded data removed]",
      "text/plain": [
       "<Figure size 432x288 with 2 Axes>"
      ]
     },
     "metadata": {
      "needs_background": "light"
     },
     "output_type": "display_data"
    }
   ],
   "source": [
    "import scikitplot as skplt\n",
    "\n",
    "skplt.metrics.plot_confusion_matrix(y_test, y_pred, normalize=True)"
   ]
  },
  {
   "cell_type": "markdown",
   "metadata": {},
   "source": [
    "### F1-Score"
   ]
  },
  {
   "cell_type": "code",
   "execution_count": 18,
   "metadata": {},
   "outputs": [
    {
     "name": "stdout",
     "output_type": "stream",
     "text": [
      "F1 - Score = 0.7603878116343491\n"
     ]
    }
   ],
   "source": [
    "print('F1 - Score = {}'.format(f1_score(y_test, y_pred)))"
   ]
  },
  {
   "cell_type": "code",
   "execution_count": null,
   "metadata": {},
   "outputs": [],
   "source": []
  }
 ],
 "metadata": {
  "kernelspec": {
   "display_name": "Python 3",
   "language": "python",
   "name": "python3"
  },
  "language_info": {
   "codemirror_mode": {
    "name": "ipython",
    "version": 3
   },
   "file_extension": ".py",
   "mimetype": "text/x-python",
   "name": "python",
   "nbconvert_exporter": "python",
   "pygments_lexer": "ipython3",
   "version": "3.7.4"
  }
 },
 "nbformat": 4,
 "nbformat_minor": 2
}
