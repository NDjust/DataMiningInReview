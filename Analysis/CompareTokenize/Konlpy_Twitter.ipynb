{
 "cells": [
  {
   "cell_type": "code",
   "execution_count": 1,
   "metadata": {},
   "outputs": [],
   "source": [
    "import pandas as pd\n",
    "from imblearn.under_sampling import RandomUnderSampler\n",
    "import re"
   ]
  },
  {
   "cell_type": "code",
   "execution_count": 2,
   "metadata": {},
   "outputs": [
    {
     "data": {
      "text/plain": [
       "1    82598\n",
       "0    10218\n",
       "Name: score, dtype: int64"
      ]
     },
     "execution_count": 2,
     "metadata": {},
     "output_type": "execute_result"
    }
   ],
   "source": [
    "df = pd.read_csv(\"C:/Users/dadadah_ye/Downloads/total_data_11_27.csv\", encoding = 'utf-8-sig')\n",
    "df = df.dropna()\n",
    "df['score'].value_counts()"
   ]
  },
  {
   "cell_type": "code",
   "execution_count": 3,
   "metadata": {},
   "outputs": [
    {
     "data": {
      "text/plain": [
       "1    10218\n",
       "0    10218\n",
       "Name: score, dtype: int64"
      ]
     },
     "execution_count": 3,
     "metadata": {},
     "output_type": "execute_result"
    }
   ],
   "source": [
    "# Solve data imbalanced\n",
    "def under_sampling(df, target_label):\n",
    "    rus  = RandomUnderSampler(return_indices=True)\n",
    "    X_tl, y_tl, id_tl = rus.fit_sample(df, df[target_label])\n",
    "\n",
    "    # remake data frame.\n",
    "    columns = df.columns\n",
    "    df = pd.DataFrame(X_tl, columns=columns)\n",
    "    # df = df.astype(float)\n",
    "\n",
    "    return df\n",
    "\n",
    "df = under_sampling(df, \"score\")\n",
    "df['score'].value_counts()"
   ]
  },
  {
   "cell_type": "code",
   "execution_count": 4,
   "metadata": {},
   "outputs": [],
   "source": [
    "# remove emoji\n",
    "def emoji(df):\n",
    "    EMOJI = re.compile('[\\U00010000-\\U0010ffff]', flags=re.UNICODE)\n",
    "    return EMOJI.sub(r'', df)\n",
    "\n",
    "df['review'] = df['review'].apply(emoji)\n",
    "\n",
    "# replace \\n\n",
    "def replaceText(df):\n",
    "    text = df.replace(\"\\n\",\".\")\n",
    "    return text\n",
    "\n",
    "df['review'] = df['review'].apply(replaceText)\n",
    "\n",
    "# regular expression\n",
    "def cleanText(df):\n",
    "    text = re.sub('[-=+,#/\\?:^$.@*\\\"※~&%ㆍ!』\\\\‘|\\(\\)\\[\\]\\<\\>`\\'…》]', '', df)\n",
    "    return text\n",
    "\n",
    "df['review'] = df['review'].apply(cleanText)\n"
   ]
  },
  {
   "cell_type": "code",
   "execution_count": 5,
   "metadata": {
    "scrolled": true
   },
   "outputs": [
    {
     "name": "stderr",
     "output_type": "stream",
     "text": [
      "C:\\Users\\dadadah_ye\\Anaconda3\\lib\\site-packages\\konlpy\\tag\\_okt.py:16: UserWarning: \"Twitter\" has changed to \"Okt\" since KoNLPy v0.4.5.\n",
      "  warn('\"Twitter\" has changed to \"Okt\" since KoNLPy v0.4.5.')\n",
      "C:\\Users\\dadadah_ye\\Anaconda3\\lib\\site-packages\\jpype\\_core.py:210: UserWarning: \n",
      "-------------------------------------------------------------------------------\n",
      "Deprecated: convertStrings was not specified when starting the JVM. The default\n",
      "behavior in JPype will be False starting in JPype 0.8. The recommended setting\n",
      "for new code is convertStrings=False.  The legacy value of True was assumed for\n",
      "this session. If you are a user of an application that reported this warning,\n",
      "please file a ticket with the developer.\n",
      "-------------------------------------------------------------------------------\n",
      "\n",
      "  \"\"\")\n"
     ]
    }
   ],
   "source": [
    "from konlpy.tag import Twitter\n",
    "from sklearn.model_selection import train_test_split\n",
    "\n",
    "twitter = Twitter()\n",
    "train, test = train_test_split(df, test_size=0.2)\n",
    "\n",
    "train_x = []\n",
    "train_y = []\n",
    "test_x = []\n",
    "test_y = []\n",
    "\n",
    "for i, row in train.iterrows():\n",
    "    train_x.append(['/'.join(token) for token in twitter.pos(row[0])])\n",
    "    train_y.append(row[1])\n",
    "    \n",
    "for i, row in test.iterrows():\n",
    "    test_x.append(['/'.join(token) for token in twitter.pos(row[0])])\n",
    "    test_y.append(row[1])"
   ]
  },
  {
   "cell_type": "code",
   "execution_count": 6,
   "metadata": {},
   "outputs": [
    {
     "data": {
      "text/plain": [
       "[['거리/Noun',\n",
       "  '건너편/Noun',\n",
       "  '에는/Josa',\n",
       "  '스타/Noun',\n",
       "  '벅스/Noun',\n",
       "  '가/Josa',\n",
       "  '있습니다/Adjective',\n",
       "  '나/Noun',\n",
       "  '는/Josa',\n",
       "  '커피/Noun',\n",
       "  '스미스/Noun',\n",
       "  '를/Josa',\n",
       "  '가로/Noun',\n",
       "  '질러서/Verb',\n",
       "  '그것/Noun',\n",
       "  '을/Josa',\n",
       "  '시험/Noun',\n",
       "  '해/Verb',\n",
       "  '볼/Noun',\n",
       "  '것/Noun',\n",
       "  '이라고/Josa',\n",
       "  '알/Noun',\n",
       "  '때/Noun',\n",
       "  '까지/Josa',\n",
       "  '거기/Noun',\n",
       "  '에/Josa',\n",
       "  '도착/Noun',\n",
       "  '하려고/Verb',\n",
       "  '했다/Verb',\n",
       "  '나/Noun',\n",
       "  '는/Josa',\n",
       "  '뜨거운/Adjective',\n",
       "  '물방울/Noun',\n",
       "  '커피/Noun',\n",
       "  '를/Josa',\n",
       "  '주문/Noun',\n",
       "  '하고/Josa',\n",
       "  '막대기/Noun',\n",
       "  '지역/Noun',\n",
       "  '에/Josa',\n",
       "  '크림/Noun',\n",
       "  '과/Josa',\n",
       "  '설탕/Noun',\n",
       "  '을/Josa',\n",
       "  '첨가/Noun',\n",
       "  '하기/Verb',\n",
       "  '위/Noun',\n",
       "  '하여/Verb',\n",
       "  '갔다/Verb',\n",
       "  '그/Noun',\n",
       "  '들/Suffix',\n",
       "  '은/Josa',\n",
       "  '우유/Noun',\n",
       "  '를/Josa',\n",
       "  '내/Noun',\n",
       "  '드립/Noun',\n",
       "  '커피/Noun',\n",
       "  '에/Josa',\n",
       "  '첨가/Noun',\n",
       "  '해야/Verb',\n",
       "  '한다고/Verb',\n",
       "  '알려주었습니다/Verb',\n",
       "  '나는이/Verb',\n",
       "  '견과류/Noun',\n",
       "  '를/Josa',\n",
       "  '느낀다/Verb',\n",
       "  '다음/Noun',\n",
       "  '에/Josa',\n",
       "  '나/Noun',\n",
       "  '는/Josa',\n",
       "  '스타/Noun',\n",
       "  '벅스/Noun',\n",
       "  '에/Josa',\n",
       "  '갈거야/Verb'],\n",
       " ['상도/Noun',\n",
       "  '와/Josa',\n",
       "  '장승/Noun',\n",
       "  '배기/Noun',\n",
       "  '사이/Noun',\n",
       "  '에/Josa',\n",
       "  '위치/Noun',\n",
       "  '한/Josa',\n",
       "  '빵집/Noun',\n",
       "  '근처/Noun',\n",
       "  '에/Josa',\n",
       "  '있는/Adjective',\n",
       "  '벨르보/Noun',\n",
       "  '를/Josa',\n",
       "  '가려는데/Verb',\n",
       "  '여기/Noun',\n",
       "  '도/Josa',\n",
       "  '유명한/Adjective',\n",
       "  '빵집/Noun',\n",
       "  '이길래/Verb',\n",
       "  '두/Noun',\n",
       "  '곳/Noun',\n",
       "  '다/Adverb',\n",
       "  '방문/Noun',\n",
       "  '가장/Noun',\n",
       "  '유명하고/Adjective',\n",
       "  '대/Modifier',\n",
       "  '체적/Noun',\n",
       "  '으로/Josa',\n",
       "  '호불호/Noun',\n",
       "  '가/Josa',\n",
       "  '안/Noun',\n",
       "  '갈리는/Verb',\n",
       "  '듯/Noun',\n",
       "  '한/Verb',\n",
       "  '단호박/Noun',\n",
       "  '크림/Noun',\n",
       "  '치즈/Noun',\n",
       "  '깜빠/Noun',\n",
       "  '뉴/Noun',\n",
       "  '와/Josa',\n",
       "  '흑임자/Noun',\n",
       "  '떡/Noun',\n",
       "  '바게트/Noun',\n",
       "  '를/Josa',\n",
       "  '샀다/Verb',\n",
       "  '단호박/Noun',\n",
       "  '크림/Noun',\n",
       "  '치즈/Noun',\n",
       "  '깜빠/Noun',\n",
       "  '뉴/Noun',\n",
       "  '6000/Number',\n",
       "  '봉지/Noun',\n",
       "  '가/Josa',\n",
       "  '아주/Noun',\n",
       "  '묵직했다/Adjective',\n",
       "  '겉/Noun',\n",
       "  '면/Josa',\n",
       "  '은/Noun',\n",
       "  '깨/Noun',\n",
       "  '와/Josa',\n",
       "  '해바라기씨/Noun',\n",
       "  '들/Suffix',\n",
       "  '이/Josa',\n",
       "  '아주/Noun',\n",
       "  '실하게/Adjective',\n",
       "  '붙어있고/Verb',\n",
       "  '겉/Noun',\n",
       "  '빵/Noun',\n",
       "  '은/Josa',\n",
       "  '약간/Noun',\n",
       "  '짭쪼름/Noun',\n",
       "  '하고/Josa',\n",
       "  '질깃/Noun',\n",
       "  '한/Josa',\n",
       "  '식감/Noun',\n",
       "  '이다/Josa',\n",
       "  '속/Noun',\n",
       "  '은/Josa',\n",
       "  '거의/Noun',\n",
       "  '단호박/Noun',\n",
       "  '저/Determiner',\n",
       "  '장소/Noun',\n",
       "  '라고/Josa',\n",
       "  '보면/Verb',\n",
       "  '된다/Verb',\n",
       "  '완전/Noun',\n",
       "  '꽉/Noun',\n",
       "  '차/Noun',\n",
       "  '있어/Adjective',\n",
       "  '근데/Adverb',\n",
       "  '개인/Noun',\n",
       "  '적/Suffix',\n",
       "  '으로/Josa',\n",
       "  '검은/Adjective',\n",
       "  '깨/Noun',\n",
       "  '와/Josa',\n",
       "  '견과류/Noun',\n",
       "  '가/Josa',\n",
       "  '너무/Adverb',\n",
       "  '많이/Adverb',\n",
       "  '붙어있/Verb',\n",
       "  '너/Noun',\n",
       "  '서/Josa',\n",
       "  '그/Determiner',\n",
       "  '런가/Noun',\n",
       "  '맛/Noun',\n",
       "  '이/Josa',\n",
       "  '너무/Adverb',\n",
       "  '강해서/Adjective',\n",
       "  '약간/Noun',\n",
       "  '다른/Noun',\n",
       "  '맛/Noun',\n",
       "  '이/Josa',\n",
       "  '묻히는/Verb',\n",
       "  '듯/Noun',\n",
       "  '한/Josa',\n",
       "  '느낌이었다/Verb',\n",
       "  'ㅠㅠ/KoreanParticle',\n",
       "  '다음/Noun',\n",
       "  '엔/Josa',\n",
       "  '고구마/Noun',\n",
       "  '깜빠뉴/Noun',\n",
       "  '를/Josa',\n",
       "  '사야겠다/Verb',\n",
       "  '흑임자/Noun',\n",
       "  '떡/Noun',\n",
       "  '바게트/Noun',\n",
       "  '4000/Number',\n",
       "  '사실/Noun',\n",
       "  '살/Noun',\n",
       "  '생각/Noun',\n",
       "  '이/Josa',\n",
       "  '없었는데/Adjective',\n",
       "  '시/Modifier',\n",
       "  '식빵/Noun',\n",
       "  '한번/Noun',\n",
       "  '먹어/Verb',\n",
       "  '보고/Noun',\n",
       "  '너무/Adverb',\n",
       "  '맛있어서/Adjective',\n",
       "  '사/Noun',\n",
       "  '버림/Verb',\n",
       "  '겉/Noun',\n",
       "  '은/Josa',\n",
       "  '검은/Adjective',\n",
       "  '깨/Noun',\n",
       "  '가/Josa',\n",
       "  '다닥다닥/Adverb',\n",
       "  '붙어있고/Verb',\n",
       "  '안은/Verb',\n",
       "  '흑임자/Noun',\n",
       "  '떡/Noun',\n",
       "  '과/Josa',\n",
       "  '팥/Noun',\n",
       "  '견과류/Noun',\n",
       "  '가/Josa',\n",
       "  '들어있다/Verb',\n",
       "  '흑임자/Noun',\n",
       "  '떡/Noun',\n",
       "  '이/Josa',\n",
       "  '웬만한/Adjective',\n",
       "  '떡집/Noun',\n",
       "  '보다/Josa',\n",
       "  '더/Noun',\n",
       "  '쫄깃/Noun',\n",
       "  '크기/Noun',\n",
       "  '는/Josa',\n",
       "  '손바닥/Noun',\n",
       "  '주먹/Noun',\n",
       "  '만/Noun',\n",
       "  '한데/Eomi',\n",
       "  '은근/Noun',\n",
       "  '배부르다/Adjective',\n",
       "  '떡/Noun',\n",
       "  '이랑/Josa',\n",
       "  '빵/Noun',\n",
       "  '합쳐져서/Verb',\n",
       "  '그/Determiner',\n",
       "  '런가/Noun',\n",
       "  '질깃질깃/Noun',\n",
       "  '쫀득쫀득/Noun',\n",
       "  '하고/Josa',\n",
       "  '흑임자/Noun',\n",
       "  '떡/Noun',\n",
       "  '과/Josa',\n",
       "  '빵/Noun',\n",
       "  '의/Josa',\n",
       "  '조합/Noun',\n",
       "  '이/Josa',\n",
       "  '잘/Verb',\n",
       "  '어울려서/Verb',\n",
       "  '자꾸/Noun',\n",
       "  '생각나는/Verb',\n",
       "  '맛/Noun',\n",
       "  '이다/Josa'],\n",
       " ['우연히/Adverb',\n",
       "  '지나가다/Verb',\n",
       "  '들린/Verb',\n",
       "  '곳/Noun',\n",
       "  '인데/Josa',\n",
       "  '넓어서/Adjective',\n",
       "  '좋고/Adjective',\n",
       "  '혼자/Noun',\n",
       "  '독서/Noun',\n",
       "  '하러/Verb',\n",
       "  '오기/Noun',\n",
       "  '도/Josa',\n",
       "  '괜찮을/Adjective',\n",
       "  '듯/Noun'],\n",
       " ['평냉/Noun',\n",
       "  '애호가/Noun',\n",
       "  '들/Suffix',\n",
       "  '의/Josa',\n",
       "  '호평/Noun',\n",
       "  '때문/Noun',\n",
       "  '에/Josa',\n",
       "  '가봤는데/Verb',\n",
       "  '흠/Noun',\n",
       "  '극찬/Noun',\n",
       "  '을/Josa',\n",
       "  '할만/Verb',\n",
       "  '한/Determiner',\n",
       "  '냉면/Noun',\n",
       "  '인/Suffix',\n",
       "  '지는/Josa',\n",
       "  '잘/Verb',\n",
       "  '모르겠네요/Verb',\n",
       "  '적당하면서/Adjective',\n",
       "  '감칠맛/Noun',\n",
       "  '느껴지는/Verb',\n",
       "  '국물/Noun',\n",
       "  '에/Josa',\n",
       "  '어느/Modifier',\n",
       "  '정도/Noun',\n",
       "  '메밀/Noun',\n",
       "  '향/Noun',\n",
       "  '이/Josa',\n",
       "  '살아있는/Verb',\n",
       "  '면/Noun',\n",
       "  '나쁘진/Adjective',\n",
       "  '않은데/Verb',\n",
       "  '흠/Noun',\n",
       "  '오히려/Noun',\n",
       "  '만두/Noun',\n",
       "  '나/Josa',\n",
       "  '어복/Noun',\n",
       "  '쟁반/Noun',\n",
       "  '등/Noun',\n",
       "  '다른/Noun',\n",
       "  '메뉴/Noun',\n",
       "  '가/Josa',\n",
       "  '더/Noun',\n",
       "  '강한/Adjective',\n",
       "  '집/Noun',\n",
       "  '인/Josa',\n",
       "  '듯/Noun',\n",
       "  '한데/Eomi',\n",
       "  '안/VerbPrefix',\n",
       "  '먹어/Verb',\n",
       "  '봐서/Verb',\n",
       "  '냉면/Noun',\n",
       "  '만/Josa',\n",
       "  '드실거면/Verb',\n",
       "  '멀리/Noun',\n",
       "  '서/Josa',\n",
       "  '오시는건/Verb',\n",
       "  '비추/Verb'],\n",
       " ['맛/Noun',\n",
       "  '없음/Adjective',\n",
       "  '대/Modifier',\n",
       "  '기/Modifier',\n",
       "  '인원/Noun',\n",
       "  '이/Josa',\n",
       "  '몇/Modifier',\n",
       "  '팀/Noun',\n",
       "  '이건/Noun',\n",
       "  '홀/Noun',\n",
       "  '을/Josa',\n",
       "  '싹/Noun',\n",
       "  '비우고/Verb',\n",
       "  '다시/Noun',\n",
       "  '입장/Noun',\n",
       "  '시킴/Noun',\n",
       "  '앞/Noun',\n",
       "  '에/Josa',\n",
       "  '4/Number',\n",
       "  '명/Noun',\n",
       "  '있고/Adjective',\n",
       "  '한/Determiner',\n",
       "  '시간/Noun',\n",
       "  '기다렸는데/Verb',\n",
       "  '뒤/Noun',\n",
       "  '에/Josa',\n",
       "  '6/Number',\n",
       "  '명/Noun',\n",
       "  '더/Noun',\n",
       "  '오고/Verb',\n",
       "  '10/Number',\n",
       "  '명/Noun',\n",
       "  '나간/Verb',\n",
       "  '다음/Noun',\n",
       "  '에/Josa',\n",
       "  '입장/Noun',\n",
       "  '시작/Noun',\n",
       "  '한/Determiner',\n",
       "  '시간/Noun',\n",
       "  '대기/Noun',\n",
       "  '물이/Noun',\n",
       "  '랑/Josa',\n",
       "  '미소/Noun',\n",
       "  '도/Josa',\n",
       "  '컵/Noun',\n",
       "  '에/Josa',\n",
       "  '10/Number',\n",
       "  '잔/Noun',\n",
       "  '다/Adverb',\n",
       "  '따르고/Verb',\n",
       "  '한번/Noun',\n",
       "  '에/Josa',\n",
       "  '나눠/Verb',\n",
       "  '줌/Noun',\n",
       "  '텐동/Noun',\n",
       "  '재료/Noun',\n",
       "  '도/Josa',\n",
       "  '미리/Noun',\n",
       "  '10/Number',\n",
       "  '인분/Noun',\n",
       "  '튀기고/Verb',\n",
       "  '10/Number',\n",
       "  '명분/Noun',\n",
       "  '다/Adverb',\n",
       "  '천천히/Adverb',\n",
       "  '나누고/Verb',\n",
       "  '배식/Noun',\n",
       "  '미리/Noun',\n",
       "  '튀겨/Verb',\n",
       "  '놔서/Verb',\n",
       "  '다/Adverb',\n",
       "  '식어있고/Verb',\n",
       "  '재료/Noun',\n",
       "  '자체/Noun',\n",
       "  '가/Josa',\n",
       "  '신선하지/Adjective',\n",
       "  '못/VerbPrefix',\n",
       "  '함/Verb',\n",
       "  '문제/Noun',\n",
       "  '는/Josa',\n",
       "  '맛/Noun',\n",
       "  '이/Josa',\n",
       "  '너무/Adverb',\n",
       "  '없음/Adjective',\n",
       "  '튀김/Noun',\n",
       "  '눅눅하고/Adjective',\n",
       "  '다/Adverb',\n",
       "  '벗겨짐/Verb',\n",
       "  '꽈리/Noun',\n",
       "  '고추/Noun',\n",
       "  '는/Josa',\n",
       "  '맵/Noun',\n",
       "  '고/Josa',\n",
       "  '갑오징어/Noun',\n",
       "  '는/Josa',\n",
       "  '깍두기/Noun',\n",
       "  '만/Suffix',\n",
       "  '한/Josa',\n",
       "  '조각/Noun',\n",
       "  '4/Number',\n",
       "  '개/Noun',\n",
       "  '끝/Noun',\n",
       "  '호박/Noun',\n",
       "  '과/Josa',\n",
       "  '가지는/Verb',\n",
       "  '기름/Noun',\n",
       "  '에/Josa',\n",
       "  '쩔어서/Verb',\n",
       "  '역함/Noun',\n",
       "  '바이럴/Noun',\n",
       "  '마케팅/Noun',\n",
       "  '오지/Noun',\n",
       "  '게/Josa',\n",
       "  '하는데/Verb',\n",
       "  '정말/Noun',\n",
       "  '더럽게/Adjective',\n",
       "  '맛없고/Adjective',\n",
       "  '기본/Noun',\n",
       "  '적/Suffix',\n",
       "  '으로/Josa',\n",
       "  '서비스업/Noun',\n",
       "  '자체/Noun',\n",
       "  '를/Josa',\n",
       "  '못/VerbPrefix',\n",
       "  '함/Verb',\n",
       "  '저/Determiner',\n",
       "  '질/Noun',\n",
       "  '음식점/Noun'],\n",
       " ['떡뽁/Noun',\n",
       "  '이/Josa',\n",
       "  '김밥/Noun',\n",
       "  '순대/Noun',\n",
       "  '분식집/Noun',\n",
       "  '하면/Verb',\n",
       "  '생각나는/Verb',\n",
       "  '여러가지/Noun',\n",
       "  '음식/Noun',\n",
       "  '들/Suffix',\n",
       "  '을/Josa',\n",
       "  '맛볼수/Verb',\n",
       "  '있는/Adjective',\n",
       "  '곳/Noun',\n",
       "  '길거리/Noun',\n",
       "  '에서/Josa',\n",
       "  '파는/Verb',\n",
       "  '분식/Noun',\n",
       "  '보다는/Josa',\n",
       "  '비싸다고/Adjective',\n",
       "  '생각/Noun',\n",
       "  '되지만/Verb',\n",
       "  '세련되고/Adjective',\n",
       "  '청결한/Adjective',\n",
       "  '느낌/Noun'],\n",
       " ['안국/Noun',\n",
       "  '153/Number',\n",
       "  '은/Noun',\n",
       "  '뭐/Noun',\n",
       "  '니/Josa',\n",
       "  '뭐/Noun',\n",
       "  '니/Josa',\n",
       "  '해도/Noun',\n",
       "  '레몬/Noun',\n",
       "  '머랭/Noun',\n",
       "  '이/Josa',\n",
       "  '짱/Modifier',\n",
       "  '맛/Noun',\n",
       "  '이에요/Josa',\n",
       "  '❣️/Foreign'],\n",
       " ['사진/Noun', '찍기/Noun', '좋음/Adjective'],\n",
       " ['회/Noun',\n",
       "  '기점/Noun',\n",
       "  '말고/Josa',\n",
       "  '광화문/Noun',\n",
       "  '점/Noun',\n",
       "  '은/Josa',\n",
       "  '처음/Noun',\n",
       "  '와/Josa',\n",
       "  '보는데/Verb',\n",
       "  '진짜/Noun',\n",
       "  '믿고/Verb',\n",
       "  '가는/Verb',\n",
       "  '포비/Noun',\n",
       "  'ㅠㅠ/KoreanParticle',\n",
       "  '♥/Foreign',\n",
       "  '다만/Noun',\n",
       "  '의자/Noun',\n",
       "  '는/Josa',\n",
       "  '좀/Noun',\n",
       "  '불편하다/Adjective',\n",
       "  '허리/Noun',\n",
       "  '를/Josa',\n",
       "  '꼿꼿이/Adverb',\n",
       "  '세워/Verb',\n",
       "  '야함/Adjective'],\n",
       " ['오랜/Modifier',\n",
       "  '만/Noun',\n",
       "  '에/Josa',\n",
       "  '재/Noun',\n",
       "  '방문/Noun',\n",
       "  '한/Josa',\n",
       "  '길버트/Noun',\n",
       "  '버거/Noun',\n",
       "  '미스터/Noun',\n",
       "  '프레지던트/Noun',\n",
       "  '여전히/Adjective',\n",
       "  '맛/Noun',\n",
       "  '잇네용/Verb',\n",
       "  'ㅎㅎ/KoreanParticle',\n",
       "  '고/Modifier',\n",
       "  '기/Modifier',\n",
       "  '패티/Noun',\n",
       "  '는/Josa',\n",
       "  '두꺼워도/Adjective',\n",
       "  '되게/Adverb',\n",
       "  '촉촉하고/Adjective',\n",
       "  '빵/Noun',\n",
       "  '에/Josa',\n",
       "  '깨/Noun',\n",
       "  '가/Josa',\n",
       "  '엄청/Adverb',\n",
       "  '많이/Adverb',\n",
       "  '뿌려져/Verb',\n",
       "  '잇어서/Verb',\n",
       "  '좋아욤/Noun',\n",
       "  '♥/Foreign',\n",
       "  '미국/Noun',\n",
       "  '맛/Noun',\n",
       "  '땡길/Verb',\n",
       "  '때/Noun',\n",
       "  '한번/Noun',\n",
       "  '씩/Suffix',\n",
       "  '생각나는/Verb',\n",
       "  '곳/Noun',\n",
       "  '추천/Noun',\n",
       "  '해요/Verb']]"
      ]
     },
     "execution_count": 6,
     "metadata": {},
     "output_type": "execute_result"
    }
   ],
   "source": [
    "train_x[0:10]"
   ]
  },
  {
   "cell_type": "code",
   "execution_count": 7,
   "metadata": {},
   "outputs": [
    {
     "data": {
      "text/plain": [
       "['거리/Noun',\n",
       " '건너편/Noun',\n",
       " '에는/Josa',\n",
       " '스타/Noun',\n",
       " '벅스/Noun',\n",
       " '가/Josa',\n",
       " '있습니다/Adjective',\n",
       " '나/Noun',\n",
       " '는/Josa',\n",
       " '커피/Noun']"
      ]
     },
     "execution_count": 7,
     "metadata": {},
     "output_type": "execute_result"
    }
   ],
   "source": [
    "tokens = [d for token in train_x for d in token]\n",
    "tokens[0:10]"
   ]
  },
  {
   "cell_type": "code",
   "execution_count": 20,
   "metadata": {},
   "outputs": [
    {
     "name": "stdout",
     "output_type": "stream",
     "text": [
      "908537\n"
     ]
    }
   ],
   "source": [
    "import nltk\n",
    "\n",
    "text = nltk.Text(tokens, name='NMSC')\n",
    "print(len(text))"
   ]
  },
  {
   "cell_type": "markdown",
   "metadata": {},
   "source": [
    "### visualization most 50 words."
   ]
  },
  {
   "cell_type": "code",
   "execution_count": 9,
   "metadata": {
    "scrolled": true
   },
   "outputs": [
    {
     "data": {
      "image/png": "[encoded data removed]",
      "text/plain": [
       "<Figure size 1440x720 with 1 Axes>"
      ]
     },
     "metadata": {
      "needs_background": "light"
     },
     "output_type": "display_data"
    }
   ],
   "source": [
    "import matplotlib.pyplot as plt\n",
    "from matplotlib import font_manager, rc\n",
    "%matplotlib inline\n",
    "\n",
    "font_name = font_manager.FontProperties(fname=\"c:/Windows/Fonts/malgun.ttf\").get_name()\n",
    "rc('font', family=font_name)\n",
    "\n",
    "plt.figure(figsize=(20,10))\n",
    "text.plot(50)"
   ]
  },
  {
   "cell_type": "code",
   "execution_count": 10,
   "metadata": {},
   "outputs": [
    {
     "data": {
      "text/plain": [
       "['이/Josa',\n",
       " '에/Josa',\n",
       " '가/Josa',\n",
       " '는/Josa',\n",
       " '은/Josa',\n",
       " '도/Josa',\n",
       " '을/Josa',\n",
       " '맛/Noun',\n",
       " '를/Josa',\n",
       " '의/Josa']"
      ]
     },
     "execution_count": 10,
     "metadata": {},
     "output_type": "execute_result"
    }
   ],
   "source": [
    "selected_words = [f[0] for f in text.vocab().most_common(10000)]\n",
    "selected_words[0:10]"
   ]
  },
  {
   "cell_type": "code",
   "execution_count": 11,
   "metadata": {},
   "outputs": [],
   "source": [
    "def term_frequency(doc):\n",
    "    return [doc.count(word) for word in selected_words]\n",
    "\n",
    "train_x = [term_frequency(d) for d in train_x]\n",
    "test_x = [term_frequency(d) for d in test_x]\n",
    "train_y = [c for c in train_y]\n",
    "test_y = [c for c in test_y]"
   ]
  },
  {
   "cell_type": "code",
   "execution_count": 12,
   "metadata": {},
   "outputs": [],
   "source": [
    "import numpy as np\n",
    "\n",
    "x_train = np.asarray(train_x).astype('float32')\n",
    "x_test = np.asarray(test_x).astype('float32')\n",
    "y_train = np.asarray(train_y).astype('float32')\n",
    "y_test = np.asarray(test_y).astype('float32')"
   ]
  },
  {
   "cell_type": "markdown",
   "metadata": {},
   "source": [
    "### modeling"
   ]
  },
  {
   "cell_type": "code",
   "execution_count": 13,
   "metadata": {},
   "outputs": [
    {
     "name": "stdout",
     "output_type": "stream",
     "text": [
      "Navie Bayes accuracy = 0.7340998043052838\n"
     ]
    }
   ],
   "source": [
    "# Naive Bayes\n",
    "from sklearn.naive_bayes import MultinomialNB\n",
    "from sklearn.metrics import *\n",
    "\n",
    "naivebayes = MultinomialNB()\n",
    "naivebayes.fit(x_train, y_train)\n",
    "\n",
    "'''for i in np.arange(0, 1.01, 0.05):\n",
    "    threshold = i\n",
    "    predicated_proba = naivebayes.predict_proba(x_test)\n",
    "    predicted = (predicated_proba[:,1] >= i).astype('int')\n",
    "    \n",
    "    accuracy = accuracy_score(y_test, predicted)\n",
    "    print('threshold = {}, accuracy = {}'.format(i, accuracy))'''\n",
    "\n",
    "print('Navie Bayes accuracy = {}'.format(naivebayes.score(x_test,y_test)))"
   ]
  },
  {
   "cell_type": "markdown",
   "metadata": {},
   "source": [
    "### ROC curve"
   ]
  },
  {
   "cell_type": "code",
   "execution_count": 14,
   "metadata": {},
   "outputs": [
    {
     "data": {
      "text/plain": [
       "0.733856544318147"
      ]
     },
     "execution_count": 14,
     "metadata": {},
     "output_type": "execute_result"
    }
   ],
   "source": [
    "import numpy as np\n",
    "import matplotlib.pyplot as plt\n",
    "\n",
    "y_pred = naivebayes.predict(x_test).ravel()\n",
    "#y_pred = (predicated_proba[:,1] >= 0.7).astype('int')\n",
    "fpr, tpr, thresholds = roc_curve(y_test, y_pred)\n",
    "auc_curve = auc(fpr, tpr)\n",
    "auc_curve"
   ]
  },
  {
   "cell_type": "code",
   "execution_count": 15,
   "metadata": {},
   "outputs": [
    {
     "data": {
      "image/png": "[encoded data removed]",
      "text/plain": [
       "<Figure size 432x288 with 1 Axes>"
      ]
     },
     "metadata": {
      "needs_background": "light"
     },
     "output_type": "display_data"
    }
   ],
   "source": [
    "plt.plot(fpr, tpr, label='Twitter Tokenize')\n",
    "plt.legend()\n",
    "plt.plot([0, 1], [0, 1], 'k--')\n",
    "plt.xlabel('위양성률(Fall-Out)')\n",
    "plt.ylabel('재현률(Recall)')\n",
    "plt.title('ROC curve')\n",
    "plt.show()"
   ]
  },
  {
   "cell_type": "markdown",
   "metadata": {},
   "source": [
    "### Confusion Matrix"
   ]
  },
  {
   "cell_type": "code",
   "execution_count": 16,
   "metadata": {},
   "outputs": [
    {
     "name": "stdout",
     "output_type": "stream",
     "text": [
      "[[1407  625]\n",
      " [ 462 1594]]\n",
      "Recall = 0.7752918287937743\n"
     ]
    }
   ],
   "source": [
    "print(confusion_matrix(y_test, y_pred))\n",
    "print('Recall = {}'.format(recall_score(y_test, y_pred)))"
   ]
  },
  {
   "cell_type": "code",
   "execution_count": 17,
   "metadata": {},
   "outputs": [
    {
     "data": {
      "text/plain": [
       "<matplotlib.axes._subplots.AxesSubplot at 0x1b26f403048>"
      ]
     },
     "execution_count": 17,
     "metadata": {},
     "output_type": "execute_result"
    },
    {
     "data": {
      "image/png": "[encoded data removed]",
      "text/plain": [
       "<Figure size 432x288 with 2 Axes>"
      ]
     },
     "metadata": {
      "needs_background": "light"
     },
     "output_type": "display_data"
    }
   ],
   "source": [
    "import scikitplot as skplt\n",
    "\n",
    "skplt.metrics.plot_confusion_matrix(y_test, y_pred, normalize=True)"
   ]
  },
  {
   "cell_type": "markdown",
   "metadata": {},
   "source": [
    "### F1-Score"
   ]
  },
  {
   "cell_type": "code",
   "execution_count": 18,
   "metadata": {},
   "outputs": [
    {
     "name": "stdout",
     "output_type": "stream",
     "text": [
      "F1 - Score = 0.7457309941520469\n"
     ]
    }
   ],
   "source": [
    "print('F1 - Score = {}'.format(f1_score(y_test, y_pred)))9"
   ]
  },
  {
   "cell_type": "code",
   "execution_count": null,
   "metadata": {},
   "outputs": [],
   "source": []
  }
 ],
 "metadata": {
  "kernelspec": {
   "display_name": "Python 3",
   "language": "python",
   "name": "python3"
  },
  "language_info": {
   "codemirror_mode": {
    "name": "ipython",
    "version": 3
   },
   "file_extension": ".py",
   "mimetype": "text/x-python",
   "name": "python",
   "nbconvert_exporter": "python",
   "pygments_lexer": "ipython3",
   "version": "3.7.4"
  }
 },
 "nbformat": 4,
 "nbformat_minor": 2
}
